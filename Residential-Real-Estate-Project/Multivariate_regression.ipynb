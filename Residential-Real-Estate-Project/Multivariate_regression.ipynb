{
 "cells": [
  {
   "cell_type": "markdown",
   "metadata": {},
   "source": [
    "# Project 2: Multivariate Regression"
   ]
  },
  {
   "cell_type": "markdown",
   "metadata": {},
   "source": [
    "The goal of this notebook is to explore multivariate regression and feature engineering.\n",
    "\n",
    "In this notebook you will use data on house sales to predict prices using multiple regression. You will:\n",
    "* Do some feature engineering\n",
    "* Use built-in python functions to compute the regression weights (coefficients/parameters)\n",
    "* Given the regression weights, predictors and outcome write a function to compute the Residual Sum of Squares\n",
    "* Look at coefficients and interpret their meanings\n",
    "* Evaluate multiple models via RSS"
   ]
  },
  {
   "cell_type": "markdown",
   "metadata": {},
   "source": [
    "# Load in house sale data, split data into training and testing."
   ]
  },
  {
   "cell_type": "code",
   "execution_count": 1,
   "metadata": {},
   "outputs": [],
   "source": [
    "import numpy as np\n",
    "import pandas as pd\n",
    "from sklearn.linear_model import LinearRegression\n",
    "from sklearn.model_selection import train_test_split"
   ]
  },
  {
   "cell_type": "code",
   "execution_count": 2,
   "metadata": {},
   "outputs": [],
   "source": [
    "# load data\n",
    "# your code\n",
    "df = pd.read_csv(\"merged.csv\")"
   ]
  },
  {
   "cell_type": "markdown",
   "metadata": {},
   "source": [
    "Remove the rows where the columns you are going to use are nan values. Then split into train/test using 80/20 allocation."
   ]
  },
  {
   "cell_type": "code",
   "execution_count": 3,
   "metadata": {},
   "outputs": [
    {
     "data": {
      "text/html": [
       "<div>\n",
       "<style scoped>\n",
       "    .dataframe tbody tr th:only-of-type {\n",
       "        vertical-align: middle;\n",
       "    }\n",
       "\n",
       "    .dataframe tbody tr th {\n",
       "        vertical-align: top;\n",
       "    }\n",
       "\n",
       "    .dataframe thead th {\n",
       "        text-align: right;\n",
       "    }\n",
       "</style>\n",
       "<table border=\"1\" class=\"dataframe\">\n",
       "  <thead>\n",
       "    <tr style=\"text-align: right;\">\n",
       "      <th></th>\n",
       "      <th>SALE TYPE</th>\n",
       "      <th>SOLD DATE</th>\n",
       "      <th>PROPERTY TYPE</th>\n",
       "      <th>ADDRESS</th>\n",
       "      <th>CITY</th>\n",
       "      <th>STATE OR PROVINCE</th>\n",
       "      <th>ZIP OR POSTAL CODE</th>\n",
       "      <th>PRICE</th>\n",
       "      <th>BEDS</th>\n",
       "      <th>BATHS</th>\n",
       "      <th>...</th>\n",
       "      <th>STATUS</th>\n",
       "      <th>NEXT OPEN HOUSE START TIME</th>\n",
       "      <th>NEXT OPEN HOUSE END TIME</th>\n",
       "      <th>URL (SEE http://www.redfin.com/buy-a-home/comparative-market-analysis FOR INFO ON PRICING)</th>\n",
       "      <th>SOURCE</th>\n",
       "      <th>MLS#</th>\n",
       "      <th>FAVORITE</th>\n",
       "      <th>INTERESTED</th>\n",
       "      <th>LATITUDE</th>\n",
       "      <th>LONGITUDE</th>\n",
       "    </tr>\n",
       "  </thead>\n",
       "  <tbody>\n",
       "    <tr>\n",
       "      <th>0</th>\n",
       "      <td>PAST SALE</td>\n",
       "      <td>March-13-2015</td>\n",
       "      <td>Single Family Residential</td>\n",
       "      <td>1157 S Stelling Rd</td>\n",
       "      <td>CUPERTINO</td>\n",
       "      <td>CA</td>\n",
       "      <td>95014.0</td>\n",
       "      <td>1500000.0</td>\n",
       "      <td>3.0</td>\n",
       "      <td>2.0</td>\n",
       "      <td>...</td>\n",
       "      <td>Sold</td>\n",
       "      <td>NaN</td>\n",
       "      <td>NaN</td>\n",
       "      <td>http://www.redfin.com/CA/Cupertino/1157-S-Stel...</td>\n",
       "      <td>MLSListings</td>\n",
       "      <td>ML81448134</td>\n",
       "      <td>N</td>\n",
       "      <td>Y</td>\n",
       "      <td>37.303816</td>\n",
       "      <td>-122.041727</td>\n",
       "    </tr>\n",
       "    <tr>\n",
       "      <th>1</th>\n",
       "      <td>PAST SALE</td>\n",
       "      <td>April-17-2018</td>\n",
       "      <td>Single Family Residential</td>\n",
       "      <td>10340 Las Ondas Way</td>\n",
       "      <td>CUPERTINO</td>\n",
       "      <td>CA</td>\n",
       "      <td>95014.0</td>\n",
       "      <td>2798000.0</td>\n",
       "      <td>4.0</td>\n",
       "      <td>2.5</td>\n",
       "      <td>...</td>\n",
       "      <td>Sold</td>\n",
       "      <td>NaN</td>\n",
       "      <td>NaN</td>\n",
       "      <td>http://www.redfin.com/CA/Cupertino/10340-Las-O...</td>\n",
       "      <td>MLSListings</td>\n",
       "      <td>ML81695379</td>\n",
       "      <td>N</td>\n",
       "      <td>Y</td>\n",
       "      <td>37.317957</td>\n",
       "      <td>-122.024231</td>\n",
       "    </tr>\n",
       "    <tr>\n",
       "      <th>2</th>\n",
       "      <td>PAST SALE</td>\n",
       "      <td>February-4-2019</td>\n",
       "      <td>Single Family Residential</td>\n",
       "      <td>1035 W Homestead Rd</td>\n",
       "      <td>SUNNYVALE</td>\n",
       "      <td>CA</td>\n",
       "      <td>94087.0</td>\n",
       "      <td>2200000.0</td>\n",
       "      <td>4.0</td>\n",
       "      <td>3.0</td>\n",
       "      <td>...</td>\n",
       "      <td>Sold</td>\n",
       "      <td>NaN</td>\n",
       "      <td>NaN</td>\n",
       "      <td>http://www.redfin.com/CA/Sunnyvale/1035-W-Home...</td>\n",
       "      <td>MLSListings</td>\n",
       "      <td>ML81733182</td>\n",
       "      <td>N</td>\n",
       "      <td>Y</td>\n",
       "      <td>37.337792</td>\n",
       "      <td>-122.056622</td>\n",
       "    </tr>\n",
       "    <tr>\n",
       "      <th>3</th>\n",
       "      <td>PAST SALE</td>\n",
       "      <td>July-9-2018</td>\n",
       "      <td>Townhouse</td>\n",
       "      <td>11030 Firethorne Dr</td>\n",
       "      <td>CUPERTINO</td>\n",
       "      <td>CA</td>\n",
       "      <td>95014.0</td>\n",
       "      <td>1307000.0</td>\n",
       "      <td>2.0</td>\n",
       "      <td>2.5</td>\n",
       "      <td>...</td>\n",
       "      <td>Sold</td>\n",
       "      <td>NaN</td>\n",
       "      <td>NaN</td>\n",
       "      <td>http://www.redfin.com/CA/Cupertino/11030-Firet...</td>\n",
       "      <td>MLSListings</td>\n",
       "      <td>ML81708624</td>\n",
       "      <td>N</td>\n",
       "      <td>Y</td>\n",
       "      <td>37.338270</td>\n",
       "      <td>-122.032713</td>\n",
       "    </tr>\n",
       "    <tr>\n",
       "      <th>4</th>\n",
       "      <td>PAST SALE</td>\n",
       "      <td>July-12-2019</td>\n",
       "      <td>Single Family Residential</td>\n",
       "      <td>10590 S Tantau Ave</td>\n",
       "      <td>CUPERTINO</td>\n",
       "      <td>CA</td>\n",
       "      <td>95014.0</td>\n",
       "      <td>2090000.0</td>\n",
       "      <td>3.0</td>\n",
       "      <td>3.0</td>\n",
       "      <td>...</td>\n",
       "      <td>Sold</td>\n",
       "      <td>NaN</td>\n",
       "      <td>NaN</td>\n",
       "      <td>http://www.redfin.com/CA/Cupertino/10590-S-Tan...</td>\n",
       "      <td>MLSListings</td>\n",
       "      <td>ML81753390</td>\n",
       "      <td>N</td>\n",
       "      <td>Y</td>\n",
       "      <td>37.314344</td>\n",
       "      <td>-122.007310</td>\n",
       "    </tr>\n",
       "  </tbody>\n",
       "</table>\n",
       "<p>5 rows × 27 columns</p>\n",
       "</div>"
      ],
      "text/plain": [
       "   SALE TYPE        SOLD DATE              PROPERTY TYPE              ADDRESS  \\\n",
       "0  PAST SALE    March-13-2015  Single Family Residential   1157 S Stelling Rd   \n",
       "1  PAST SALE    April-17-2018  Single Family Residential  10340 Las Ondas Way   \n",
       "2  PAST SALE  February-4-2019  Single Family Residential  1035 W Homestead Rd   \n",
       "3  PAST SALE      July-9-2018                  Townhouse  11030 Firethorne Dr   \n",
       "4  PAST SALE     July-12-2019  Single Family Residential   10590 S Tantau Ave   \n",
       "\n",
       "        CITY STATE OR PROVINCE  ZIP OR POSTAL CODE      PRICE  BEDS  BATHS  \\\n",
       "0  CUPERTINO                CA             95014.0  1500000.0   3.0    2.0   \n",
       "1  CUPERTINO                CA             95014.0  2798000.0   4.0    2.5   \n",
       "2  SUNNYVALE                CA             94087.0  2200000.0   4.0    3.0   \n",
       "3  CUPERTINO                CA             95014.0  1307000.0   2.0    2.5   \n",
       "4  CUPERTINO                CA             95014.0  2090000.0   3.0    3.0   \n",
       "\n",
       "   ... STATUS  NEXT OPEN HOUSE START TIME  NEXT OPEN HOUSE END TIME  \\\n",
       "0  ...   Sold                         NaN                       NaN   \n",
       "1  ...   Sold                         NaN                       NaN   \n",
       "2  ...   Sold                         NaN                       NaN   \n",
       "3  ...   Sold                         NaN                       NaN   \n",
       "4  ...   Sold                         NaN                       NaN   \n",
       "\n",
       "   URL (SEE http://www.redfin.com/buy-a-home/comparative-market-analysis FOR INFO ON PRICING)  \\\n",
       "0  http://www.redfin.com/CA/Cupertino/1157-S-Stel...                                            \n",
       "1  http://www.redfin.com/CA/Cupertino/10340-Las-O...                                            \n",
       "2  http://www.redfin.com/CA/Sunnyvale/1035-W-Home...                                            \n",
       "3  http://www.redfin.com/CA/Cupertino/11030-Firet...                                            \n",
       "4  http://www.redfin.com/CA/Cupertino/10590-S-Tan...                                            \n",
       "\n",
       "        SOURCE        MLS#  FAVORITE INTERESTED   LATITUDE   LONGITUDE  \n",
       "0  MLSListings  ML81448134         N          Y  37.303816 -122.041727  \n",
       "1  MLSListings  ML81695379         N          Y  37.317957 -122.024231  \n",
       "2  MLSListings  ML81733182         N          Y  37.337792 -122.056622  \n",
       "3  MLSListings  ML81708624         N          Y  37.338270 -122.032713  \n",
       "4  MLSListings  ML81753390         N          Y  37.314344 -122.007310  \n",
       "\n",
       "[5 rows x 27 columns]"
      ]
     },
     "execution_count": 3,
     "metadata": {},
     "output_type": "execute_result"
    }
   ],
   "source": [
    "df.head()"
   ]
  },
  {
   "cell_type": "code",
   "execution_count": 4,
   "metadata": {},
   "outputs": [],
   "source": [
    "# clean the data and split\n",
    "# your code\n",
    "df['SQUARE FEET'] = df['SQUARE FEET'].fillna((df['SQUARE FEET'].mean()))\n",
    "df['BEDS'] = df['BEDS'].fillna((df['BEDS'].mean()))\n",
    "df['BATHS'] = df['BATHS'].fillna((df['BATHS'].mean()))\n",
    "df['PRICE'] = df['PRICE'].fillna((df['PRICE'].mean()))\n",
    "df['LOT SIZE']=df['LOT SIZE'].fillna((df['LOT SIZE'].mean()))\n",
    "df['LATITUDE']=df['LATITUDE'].fillna((df['LATITUDE'].mean()))\n",
    "df['LONGITUDE']=df['LONGITUDE'].fillna((df['LONGITUDE'].mean()))"
   ]
  },
  {
   "cell_type": "markdown",
   "metadata": {},
   "source": [
    "# Learn a multivariate regression model "
   ]
  },
  {
   "cell_type": "markdown",
   "metadata": {},
   "source": [
    "Recall we can use the following code to learn a multiple regression model predicting 'price' based on the following features on training data:"
   ]
  },
  {
   "cell_type": "code",
   "execution_count": 5,
   "metadata": {},
   "outputs": [],
   "source": [
    "example_features = df[['SQUARE FEET', 'BEDS', 'BATHS']]\n",
    "X = example_features\n",
    "y = df['PRICE']"
   ]
  },
  {
   "cell_type": "markdown",
   "metadata": {},
   "source": [
    "Subset traing_data and test_data using example_features and column['PRICE'] and store them into train_input, train_price, test_input, and test_price."
   ]
  },
  {
   "cell_type": "code",
   "execution_count": 6,
   "metadata": {},
   "outputs": [],
   "source": [
    "# your code\n",
    "X_train, X_test, y_train, y_test = train_test_split(X, y, test_size=0.2)"
   ]
  },
  {
   "cell_type": "markdown",
   "metadata": {},
   "source": [
    "Build a multivariate regression model using LinearRegression in sklearn.linear_model on train_data using train_input and train_price"
   ]
  },
  {
   "cell_type": "code",
   "execution_count": 7,
   "metadata": {},
   "outputs": [
    {
     "data": {
      "text/plain": [
       "LinearRegression(copy_X=True, fit_intercept=True, n_jobs=None,\n",
       "         normalize=False)"
      ]
     },
     "execution_count": 7,
     "metadata": {},
     "output_type": "execute_result"
    }
   ],
   "source": [
    "# your code\n",
    "example_reg = LinearRegression()\n",
    "example_reg.fit(X_train,y_train)"
   ]
  },
  {
   "cell_type": "markdown",
   "metadata": {},
   "source": [
    "Now write a function that prints outcomes"
   ]
  },
  {
   "cell_type": "code",
   "execution_count": 8,
   "metadata": {},
   "outputs": [
    {
     "data": {
      "text/plain": [
       "array([  328.21339218,  7069.3581252 , 26614.54743608])"
      ]
     },
     "execution_count": 8,
     "metadata": {},
     "output_type": "execute_result"
    }
   ],
   "source": [
    "#Function of printing outcomes using coefficients, intercept and input_features\n",
    "# your code\n",
    "example_reg.coef_"
   ]
  },
  {
   "cell_type": "code",
   "execution_count": 9,
   "metadata": {},
   "outputs": [
    {
     "name": "stdout",
     "output_type": "stream",
     "text": [
      "317216.1752510015\n"
     ]
    }
   ],
   "source": [
    "print(example_reg.intercept_)"
   ]
  },
  {
   "cell_type": "markdown",
   "metadata": {},
   "source": [
    "Now print out the coefficient and intercept of your model:"
   ]
  },
  {
   "cell_type": "code",
   "execution_count": 10,
   "metadata": {},
   "outputs": [],
   "source": [
    "def coef(coefficients,intercept,input_features):\n",
    "    n=len(input_features)\n",
    "    for i in range(0,n):\n",
    "        print ('The coefficient for '+ input_features[i]+' is '+ str(coefficients[i]))\n",
    "    print ('The intercept is '+ str(intercept))"
   ]
  },
  {
   "cell_type": "code",
   "execution_count": 11,
   "metadata": {
    "scrolled": true
   },
   "outputs": [
    {
     "name": "stdout",
     "output_type": "stream",
     "text": [
      "328.21339217535416\n",
      "7069.3581251958\n",
      "26614.547436079556\n",
      "317216.1752510015\n"
     ]
    }
   ],
   "source": [
    "print (example_reg.coef_[0])\n",
    "print (example_reg.coef_[1])\n",
    "print (example_reg.coef_[2])\n",
    "print (example_reg.intercept_)"
   ]
  },
  {
   "cell_type": "markdown",
   "metadata": {},
   "source": [
    "# Making Predictions"
   ]
  },
  {
   "cell_type": "markdown",
   "metadata": {},
   "source": [
    "Once a model is built we can use the .predict() function to find the predicted values for data we pass. For example using the example model above:"
   ]
  },
  {
   "cell_type": "code",
   "execution_count": 12,
   "metadata": {
    "scrolled": true
   },
   "outputs": [
    {
     "name": "stdout",
     "output_type": "stream",
     "text": [
      "617081.1418664891\n"
     ]
    }
   ],
   "source": [
    "example_predictions = example_reg.predict(X_train)\n",
    "print (example_predictions[0])"
   ]
  },
  {
   "cell_type": "markdown",
   "metadata": {},
   "source": [
    "# Compute RSS"
   ]
  },
  {
   "cell_type": "markdown",
   "metadata": {},
   "source": [
    "Now that we can make predictions given the model, let's write a function to compute the RSS of the model."
   ]
  },
  {
   "cell_type": "code",
   "execution_count": 13,
   "metadata": {},
   "outputs": [],
   "source": [
    "#Function of calculating RSS using model, data, outcome as input and return RSS\n",
    "def get_residual_sum_of_squares(model, data, outcome):\n",
    "    # your code\n",
    "    predictions = model.predict(data)\n",
    "    RSS = ((outcome - predictions)*(outcome - predictions)).sum()\n",
    "    return(RSS)  "
   ]
  },
  {
   "cell_type": "markdown",
   "metadata": {},
   "source": [
    "Use the function to calculate RSS for train_data and test_data."
   ]
  },
  {
   "cell_type": "code",
   "execution_count": 14,
   "metadata": {
    "scrolled": true
   },
   "outputs": [
    {
     "name": "stdout",
     "output_type": "stream",
     "text": [
      "1319410733994335.5\n",
      "312695089948966.75\n"
     ]
    }
   ],
   "source": [
    "# your code\n",
    "rss_example_train= get_residual_sum_of_squares(example_reg, X_train, y_train)\n",
    "rss_example_test = get_residual_sum_of_squares(example_reg, X_test, y_test)\n",
    "print (rss_example_train)\n",
    "print (rss_example_test)"
   ]
  },
  {
   "cell_type": "markdown",
   "metadata": {},
   "source": [
    "# Build models with different features"
   ]
  },
  {
   "cell_type": "markdown",
   "metadata": {},
   "source": [
    "Now build a model_1 using different set of features"
   ]
  },
  {
   "cell_type": "code",
   "execution_count": 15,
   "metadata": {},
   "outputs": [],
   "source": [
    "model_1_features=df[['SQUARE FEET', 'BEDS', 'BATHS','LOT SIZE']]"
   ]
  },
  {
   "cell_type": "code",
   "execution_count": 16,
   "metadata": {},
   "outputs": [
    {
     "data": {
      "text/plain": [
       "LinearRegression(copy_X=True, fit_intercept=True, n_jobs=None,\n",
       "         normalize=False)"
      ]
     },
     "execution_count": 16,
     "metadata": {},
     "output_type": "execute_result"
    }
   ],
   "source": [
    "# your code\n",
    "X = model_1_features\n",
    "y = df['PRICE']\n",
    "X_train, X_test, y_train, y_test = train_test_split(X, y, test_size=0.2)\n",
    "example_reg = LinearRegression()\n",
    "example_reg.fit(X_train,y_train)"
   ]
  },
  {
   "cell_type": "markdown",
   "metadata": {},
   "source": [
    "Now print out the coefficient and intercept of model_1"
   ]
  },
  {
   "cell_type": "code",
   "execution_count": 17,
   "metadata": {
    "scrolled": false
   },
   "outputs": [
    {
     "name": "stdout",
     "output_type": "stream",
     "text": [
      "325.939524107228\n",
      "2803.129284894595\n",
      "29454.771546649947\n",
      "-0.20324214597508047\n",
      "316046.3143686383\n"
     ]
    }
   ],
   "source": [
    "# your code\n",
    "print (example_reg.coef_[0])\n",
    "print (example_reg.coef_[1])\n",
    "print (example_reg.coef_[2])\n",
    "print (example_reg.coef_[3])\n",
    "print (example_reg.intercept_)"
   ]
  },
  {
   "cell_type": "markdown",
   "metadata": {},
   "source": [
    "Compute RSS for model_1"
   ]
  },
  {
   "cell_type": "code",
   "execution_count": 18,
   "metadata": {},
   "outputs": [
    {
     "name": "stdout",
     "output_type": "stream",
     "text": [
      "1252826149503951.0\n",
      "378553434244921.06\n"
     ]
    }
   ],
   "source": [
    "# your code\n",
    "rss_example_train_1= get_residual_sum_of_squares(example_reg, X_train, y_train)\n",
    "rss_example_test_1= get_residual_sum_of_squares(example_reg, X_test, y_test)\n",
    "print(rss_example_train_1)\n",
    "print(rss_example_test_1)"
   ]
  },
  {
   "cell_type": "markdown",
   "metadata": {},
   "source": [
    "# Create some new features"
   ]
  },
  {
   "cell_type": "markdown",
   "metadata": {},
   "source": [
    "Although we often think of multiple regression as including multiple different features (e.g. # of bedrooms, squarefeet, and # of bathrooms) but we can also consider transformations of existing features e.g. the log of the squarefeet or even \"interaction\" features such as the product of bedrooms and bathrooms.\n",
    "\n",
    "You will use the logarithm function to create a new feature. so first you should import it from the math library.\n",
    "\n",
    "Next create the following 4 new features as column in both TEST and TRAIN data:\n",
    "* BEDS_squared = BEDS\\*BEDS\n",
    "* BED_BATH = BEDS\\*BATHS\n",
    "* log_SQFT = log(SQUARE FEET)\n",
    "* lat_plus_long = LATITUDE + LONGITUDE\n",
    "\n",
    "Squaring bedrooms will increase the separation between not many bedrooms (e.g. 1) and lots of bedrooms (e.g. 4) since 1^2 = 1 but 4^2 = 16. Consequently this feature will mostly affect houses with many bedrooms.\n",
    "bedrooms times bathrooms gives what's called an \"interaction\" feature. It is large when both of them are large.\n",
    "Taking the log of squarefeet has the effect of bringing large values closer together and spreading out small values.\n",
    "Adding latitude to longitude is totally non-sensical but we will do it anyway (you'll see why)"
   ]
  },
  {
   "cell_type": "code",
   "execution_count": 19,
   "metadata": {},
   "outputs": [],
   "source": [
    "import math\n",
    "from math import log"
   ]
  },
  {
   "cell_type": "markdown",
   "metadata": {},
   "source": [
    "Now build model_2 with more features than model_1: model_2_features=model_1_features+ ['BED_BATH']"
   ]
  },
  {
   "cell_type": "code",
   "execution_count": 20,
   "metadata": {},
   "outputs": [],
   "source": [
    "df['BEDS_squared'] = df['BEDS'].apply(lambda x:x**2)"
   ]
  },
  {
   "cell_type": "code",
   "execution_count": 21,
   "metadata": {},
   "outputs": [],
   "source": [
    "# your code\n",
    "df['BED_BATH'] = df['BEDS'] * df['BATHS']\n",
    "df['lat_plus_long'] = df['LATITUDE'] + df['LONGITUDE']"
   ]
  },
  {
   "cell_type": "code",
   "execution_count": 22,
   "metadata": {},
   "outputs": [],
   "source": [
    "df['log_SQFT'] = df['SQUARE FEET'].apply(lambda x: log(x))"
   ]
  },
  {
   "cell_type": "code",
   "execution_count": 23,
   "metadata": {},
   "outputs": [
    {
     "data": {
      "text/plain": [
       "LinearRegression(copy_X=True, fit_intercept=True, n_jobs=None,\n",
       "         normalize=False)"
      ]
     },
     "execution_count": 23,
     "metadata": {},
     "output_type": "execute_result"
    }
   ],
   "source": [
    "model_2_features = df[['SQUARE FEET', 'BEDS', 'BATHS','LOT SIZE','BED_BATH']]\n",
    "X = model_2_features\n",
    "y = df['PRICE']\n",
    "X_train, X_test, y_train, y_test = train_test_split(X, y, test_size=0.2)\n",
    "example_reg = LinearRegression()\n",
    "example_reg.fit(X_train,y_train)"
   ]
  },
  {
   "cell_type": "markdown",
   "metadata": {},
   "source": [
    "Now print out the coefficient and intercept of model_2"
   ]
  },
  {
   "cell_type": "code",
   "execution_count": 24,
   "metadata": {
    "scrolled": true
   },
   "outputs": [
    {
     "name": "stdout",
     "output_type": "stream",
     "text": [
      "326.85402901256776\n",
      "-63437.98385784807\n",
      "-106661.53496479677\n",
      "-0.15221213817353302\n",
      "31437.83193949844\n",
      "600206.2981477769\n"
     ]
    }
   ],
   "source": [
    "# your code\n",
    "print (example_reg.coef_[0])\n",
    "print (example_reg.coef_[1])\n",
    "print (example_reg.coef_[2])\n",
    "print (example_reg.coef_[3])\n",
    "print (example_reg.coef_[4])\n",
    "print (example_reg.intercept_)"
   ]
  },
  {
   "cell_type": "markdown",
   "metadata": {},
   "source": [
    "Compute RSS for model_2"
   ]
  },
  {
   "cell_type": "code",
   "execution_count": 25,
   "metadata": {},
   "outputs": [
    {
     "name": "stdout",
     "output_type": "stream",
     "text": [
      "1327202373493889.0\n",
      "300042926632945.75\n"
     ]
    }
   ],
   "source": [
    "# your code\n",
    "rss_example_train_2= get_residual_sum_of_squares(example_reg, X_train, y_train)\n",
    "rss_example_test_2= get_residual_sum_of_squares(example_reg, X_test, y_test)\n",
    "print (rss_example_train_2)\n",
    "print (rss_example_test_2)"
   ]
  },
  {
   "cell_type": "markdown",
   "metadata": {},
   "source": [
    "Now build model_3 with more features than model_2: model_3_features = model_2_features + ['BEDS_squared', 'log_SQFT', 'lat_plus_long']"
   ]
  },
  {
   "cell_type": "code",
   "execution_count": 26,
   "metadata": {},
   "outputs": [
    {
     "data": {
      "text/plain": [
       "LinearRegression(copy_X=True, fit_intercept=True, n_jobs=None,\n",
       "         normalize=False)"
      ]
     },
     "execution_count": 26,
     "metadata": {},
     "output_type": "execute_result"
    }
   ],
   "source": [
    "# your code\n",
    "model_3_features = df[['SQUARE FEET', 'BEDS', 'BATHS','LOT SIZE','BED_BATH','BEDS_squared','log_SQFT','lat_plus_long']]\n",
    "X = model_3_features\n",
    "y = df['PRICE']\n",
    "X_train, X_test, y_train, y_test = train_test_split(X, y, test_size=0.2)\n",
    "example_reg = LinearRegression()\n",
    "example_reg.fit(X_train,y_train)"
   ]
  },
  {
   "cell_type": "markdown",
   "metadata": {},
   "source": [
    "Now print out the coefficient and intercept of model_3"
   ]
  },
  {
   "cell_type": "code",
   "execution_count": 27,
   "metadata": {
    "scrolled": true
   },
   "outputs": [
    {
     "name": "stdout",
     "output_type": "stream",
     "text": [
      "372.23103363576604\n",
      "112540.26484700487\n",
      "47181.0749174881\n",
      "-0.25606744636640066\n",
      "4261.707054058637\n",
      "-10722.021839894724\n",
      "-348227.10706795455\n",
      "-721895.8757588603\n",
      "-58620054.8939605\n"
     ]
    }
   ],
   "source": [
    "# your code\n",
    "print (example_reg.coef_[0])\n",
    "print (example_reg.coef_[1])\n",
    "print (example_reg.coef_[2])\n",
    "print (example_reg.coef_[3])\n",
    "print (example_reg.coef_[4])\n",
    "print (example_reg.coef_[5])\n",
    "print (example_reg.coef_[6])\n",
    "print (example_reg.coef_[7])\n",
    "print (example_reg.intercept_)"
   ]
  },
  {
   "cell_type": "markdown",
   "metadata": {},
   "source": [
    "Compute RSS for model_3"
   ]
  },
  {
   "cell_type": "code",
   "execution_count": 28,
   "metadata": {},
   "outputs": [
    {
     "name": "stdout",
     "output_type": "stream",
     "text": [
      "1256125119966652.5\n",
      "438300453226187.0\n"
     ]
    }
   ],
   "source": [
    "# your code\n",
    "rss_example_train_3= get_residual_sum_of_squares(example_reg, X_train, y_train)\n",
    "rss_example_test_3= get_residual_sum_of_squares(example_reg, X_test, y_test)\n",
    "print (rss_example_train_3)\n",
    "print (rss_example_test_3)"
   ]
  },
  {
   "cell_type": "markdown",
   "metadata": {},
   "source": [
    "# Compare different Models"
   ]
  },
  {
   "cell_type": "markdown",
   "metadata": {},
   "source": [
    "Calculate RSS for model_1, model_2, model_3 for train_data and test_data. What insights do you get from the results?"
   ]
  },
  {
   "cell_type": "code",
   "execution_count": 29,
   "metadata": {},
   "outputs": [
    {
     "name": "stdout",
     "output_type": "stream",
     "text": [
      "1252826149503951.0\n",
      "378553434244921.06\n",
      "1327202373493889.0\n",
      "300042926632945.75\n",
      "1256125119966652.5\n",
      "438300453226187.0\n"
     ]
    }
   ],
   "source": [
    "print (rss_example_train_1)\n",
    "print (rss_example_test_1)\n",
    "print (rss_example_train_2)\n",
    "print (rss_example_test_2)\n",
    "print (rss_example_train_3)\n",
    "print (rss_example_test_3)"
   ]
  },
  {
   "cell_type": "markdown",
   "metadata": {},
   "source": [
    "# Gradient descent solution"
   ]
  },
  {
   "cell_type": "markdown",
   "metadata": {},
   "source": [
    "Now we will estimate multivariate regression weights via gradient descent.\n",
    "\n",
    "* Add a constant column of 1's to a dataframe to account for the intercept\n",
    "* Convert a dataframe into a Numpy array\n",
    "* Write a predict_output() function using Numpy\n",
    "* Write a numpy function to compute the derivative of the regression weights with respect to a single feature\n",
    "* Write gradient descent function to compute the regression weights given an initial weight vector, step size and tolerance.\n",
    "* Use the gradient descent function to estimate regression weights for multiple features"
   ]
  },
  {
   "cell_type": "markdown",
   "metadata": {},
   "source": [
    "# Convert to Numpy Array"
   ]
  },
  {
   "cell_type": "markdown",
   "metadata": {},
   "source": [
    "In order to understand the details of the implementation of algorithms it's important to work with a library that allows for direct (and optimized) matrix operations. Numpy is a Python solution to work with matrices (or any multi-dimensional \"array\").\n",
    "\n",
    "Recall that the predicted value given the weights and the features is just the dot product between the feature and weight vector. Similarly, if we put all of the features row-by-row in a matrix then the predicted value for all the observations can be computed by right multiplying the \"feature matrix\" by the \"weight vector\".\n",
    "\n",
    "First we need to take the dataframe of our data and convert it into a 2D numpy array (also called a matrix).We can then use Panda's .as_matrix() to convert the dataframe into a numpy matrix."
   ]
  },
  {
   "cell_type": "code",
   "execution_count": 30,
   "metadata": {},
   "outputs": [],
   "source": [
    "import numpy as np"
   ]
  },
  {
   "cell_type": "markdown",
   "metadata": {},
   "source": [
    "Now we will write a function that will accept a dataframe, a list of feature names (e.g. ['SQUARE FEET', 'BEDS','BATHS']) and an target feature e.g. ('PRICE') and will return two things:\n",
    "* A numpy matrix whose columns are the desired features plus a constant column (this is how we create an 'intercept')\n",
    "* A numpy array containing the values of the output\n",
    "\n",
    "With this in mind, complete the following function"
   ]
  },
  {
   "cell_type": "code",
   "execution_count": 31,
   "metadata": {},
   "outputs": [],
   "source": [
    "def get_numpy_data(data, features, output):\n",
    "    # your code\n",
    "    data['constant']=1\n",
    "    features = ['constant'] + features\n",
    "    feature_frame = data[features]\n",
    "    feature_matrix = feature_frame.to_numpy()\n",
    "    output_array = data[output].to_numpy()\n",
    "    return(feature_matrix, output_array)"
   ]
  },
  {
   "cell_type": "markdown",
   "metadata": {},
   "source": [
    "For testing let's use the 'SQUARE FEET' feature and a constant as our features and price as our output"
   ]
  },
  {
   "cell_type": "code",
   "execution_count": 32,
   "metadata": {},
   "outputs": [
    {
     "name": "stdout",
     "output_type": "stream",
     "text": [
      "[1.00e+00 1.19e+03]\n",
      "1500000.0\n"
     ]
    }
   ],
   "source": [
    "(example_features, example_output) = get_numpy_data(df, ['SQUARE FEET'], 'PRICE')\n",
    "print (example_features[0,:] )\n",
    "print (example_output[0])"
   ]
  },
  {
   "cell_type": "markdown",
   "metadata": {},
   "source": [
    "# Predicting output given regression weights"
   ]
  },
  {
   "cell_type": "markdown",
   "metadata": {},
   "source": [
    "Suppose we had the weights [1.0, 1.0] and the features [1.0, 2368.0] and we wanted to compute the predicted output 1.0\\*1.0 + 1.0\\*1000.0 = 1001.0 this is the dot product between these two arrays. If they're numpy arrayws we can use np.dot() to compute this:"
   ]
  },
  {
   "cell_type": "code",
   "execution_count": 33,
   "metadata": {},
   "outputs": [
    {
     "name": "stdout",
     "output_type": "stream",
     "text": [
      "1001.0\n"
     ]
    }
   ],
   "source": [
    "my_weights = np.array([1., 1.]) \n",
    "my_features = [1.0,1000.0]\n",
    "predicted_value = np.dot(my_features, my_weights)\n",
    "print (predicted_value)"
   ]
  },
  {
   "cell_type": "markdown",
   "metadata": {},
   "source": [
    "np.dot() also works when dealing with a matrix and a vector. The predictions from all the observations is just the RIGHT (as in weights on the right) dot product between the features matrix and the weights vector. With this in mind finish the following predict_output function to compute the predictions for an entire matrix of features given the matrix and the weights:"
   ]
  },
  {
   "cell_type": "code",
   "execution_count": 34,
   "metadata": {},
   "outputs": [],
   "source": [
    "def predict_output(feature_matrix, weights):\n",
    "    # assume feature_matrix is a numpy matrix containing the features as columns and weights is a corresponding numpy array\n",
    "    # create the predictions vector by using np.dot()\n",
    "    # your code\n",
    "    predictions = np.dot(feature_matrix,weights)\n",
    "    return(predictions)"
   ]
  },
  {
   "cell_type": "markdown",
   "metadata": {},
   "source": [
    "# Computing the Derivative"
   ]
  },
  {
   "cell_type": "markdown",
   "metadata": {},
   "source": [
    "We are now going to move to computing the derivative of the regression cost function. The cost function is the sum over the data points of the squared difference between an observed output and a predicted output.\n",
    "\n",
    "Since the derivative of a sum is the sum of the derivatives we can compute the derivative for a single data point and then sum over data points. We can write the squared difference between the observed output and predicted output for a single point as follows:\n",
    "\n",
    "(w[0]\\*[CONSTANT] + w[1]\\*[feature_1] + ... + w[i] \\*[feature_i] + ... +  w[k]\\*[feature_k] - output)^2\n",
    "\n",
    "Where we have k features and a constant. So the derivative with respect to weight w[i] by the chain rule is:\n",
    "\n",
    "2\\*(w[0]\\*[CONSTANT] + w[1]\\*[feature_1] + ... + w[i] \\*[feature_i] + ... +  w[k]\\*[feature_k] - output)\\* [feature_i]\n",
    "\n",
    "The term inside the paranethesis is just the error (difference between prediction and output). So we can re-write this as:\n",
    "\n",
    "2\\*error\\*[feature_i]\n",
    "\n",
    "That is, the derivative for the weight for feature i is the sum (over data points) of 2 times the product of the error and the feature itself. In the case of the constant then this is just twice the sum of the errors!\n",
    "\n",
    "Twice the sum of the product of two vectors is just twice the dot product of the two vectors. Therefore the derivative for the weight for feature_i is just two times the dot product between the values of feature_i and the current errors. \n",
    "\n",
    "With this in mind complete the following derivative function which computes the derivative of the weight given the value of the feature (over all data points) and the errors (over all data points)."
   ]
  },
  {
   "cell_type": "code",
   "execution_count": 35,
   "metadata": {},
   "outputs": [],
   "source": [
    "def feature_derivative(errors, feature):\n",
    "    # Assume that errors and feature are both numpy arrays of the same length (number of data points)\n",
    "    # compute twice the dot product of these vectors as 'derivative' and return the value\n",
    "    # your code\n",
    "    derivative = 2*np.dot(errors,feature)\n",
    "    return(derivative)"
   ]
  },
  {
   "cell_type": "markdown",
   "metadata": {},
   "source": [
    "Use the test code to test the feature derivative function:"
   ]
  },
  {
   "cell_type": "code",
   "execution_count": 36,
   "metadata": {},
   "outputs": [
    {
     "name": "stdout",
     "output_type": "stream",
     "text": [
      "-5119201639.324034\n",
      "-5119201639.324034\n"
     ]
    }
   ],
   "source": [
    "(example_features, example_output) = get_numpy_data(df, ['SQUARE FEET'], 'PRICE') \n",
    "my_weights = np.array([0., 0.]) \n",
    "test_predictions = predict_output(example_features, my_weights) \n",
    "errors = test_predictions - example_output \n",
    "feature = example_features[:,0] \n",
    "derivative = feature_derivative(errors, feature)\n",
    "print (derivative)\n",
    "print (-np.sum(example_output)*2)"
   ]
  },
  {
   "cell_type": "markdown",
   "metadata": {},
   "source": [
    "# Gradient Descent"
   ]
  },
  {
   "cell_type": "markdown",
   "metadata": {},
   "source": [
    "Now we will write a function that performs a gradient descent. The basic premise is simple. Given a starting point we update the current weights by moving in the negative gradient direction. Recall that the gradient is the direction of increase and therefore the negative gradient is the direction of decrease and we're trying to minimize a cost function.\n",
    "\n",
    "The amount by which we move in the negative gradient direction is called the 'step size'. We stop when we are 'sufficiently close' to the optimum. We define this by requiring that the magnitude (length) of the gradient vector to be smaller than a fixed 'tolerance'.\n",
    "\n",
    "With this in mind, complete the following gradient descent function below using your derivative function above. For each step in the gradient descent we update the weight for each feature befofe computing our stopping criteria"
   ]
  },
  {
   "cell_type": "code",
   "execution_count": 37,
   "metadata": {},
   "outputs": [],
   "source": [
    "from math import sqrt \n",
    "# recall that the magnitude/length of a vector [g[0], g[1], g[2]] is sqrt(g[0]^2 + g[1]^2 + g[2]^2)"
   ]
  },
  {
   "cell_type": "code",
   "execution_count": 38,
   "metadata": {},
   "outputs": [],
   "source": [
    "def regression_gradient_descent(feature_matrix, output, initial_weights, step_size, tolerance):\n",
    "    converged = False \n",
    "    # make sure weights is a numpy array\n",
    "    # your code\n",
    "    weights = np.array(initial_weights)\n",
    "    while not converged:\n",
    "        # compute the predictions based on feature_matrix and weights using your predict_output() function\n",
    "        # your code\n",
    "        predictions = predict_output(feature_matrix, weights)\n",
    "        # compute the errors as predictions - output\n",
    "        # your code\n",
    "        errors = predictions - output\n",
    "        # initialize the gradient sum of squares to 0\n",
    "        # your code\n",
    "        gradient_sum_squares = 0\n",
    "        # while we haven't reached the tolerance yet, update each feature's weight\n",
    "        for i in range(len(weights)): #loop over each weight\n",
    "            # Recall that feature_matrix[:, i] is the feature column associated with weights[i]\n",
    "            # compute the derivative for weight[i]:\n",
    "            # your code\n",
    "            derivative = feature_derivative(errors, feature_matrix[:,i])\n",
    "            # add the squared value of the derivative to the gradient sum of squares (for assessing convergence)\n",
    "            # your code\n",
    "            gradient_sum_squares += (derivative ** 2)\n",
    "            # subtract the step size times the derivative from the current weight\n",
    "            # your code\n",
    "            weights[i] -= (step_size * derivative)\n",
    "            # compute the square-root of the gradient sum of squares to get the gradient magnitude:\n",
    "        # your code\n",
    "        gradient_magnitude = sqrt(gradient_sum_squares)\n",
    "        if gradient_magnitude < tolerance:\n",
    "            converged = True\n",
    "    return(weights)"
   ]
  },
  {
   "cell_type": "markdown",
   "metadata": {},
   "source": [
    "A few things to note before we run the gradient descent. Since the gradient is a sum over all the data points and involves a product of an error and a feature the gradient itself will be very large since the features are large (squarefeet) and the output is large (prices). So while you might expect \"tolerance\" to be small, small is only relative to the size of the features. \n",
    "\n",
    "For similar reasons the step size will be much smaller than you might expect but this is because the gradient has such large values."
   ]
  },
  {
   "cell_type": "markdown",
   "metadata": {},
   "source": [
    "# Running the Gradient Descent as Simple Regression"
   ]
  },
  {
   "cell_type": "markdown",
   "metadata": {},
   "source": [
    "Although the gradient descent is designed for multivariate regression since the constant is now a feature we can use the gradient descent function to estimat the parameters in the simple regression on squarefeet. The folowing cell sets up the feature_matrix, output, initial weights and step size for the first model:"
   ]
  },
  {
   "cell_type": "code",
   "execution_count": null,
   "metadata": {},
   "outputs": [],
   "source": [
    "# let's test out the gradient descent\n",
    "simple_features = ['SQUARE FEET']\n",
    "my_output = 'PRICE'\n",
    "(simple_feature_matrix, output) = get_numpy_data(df, simple_features, my_output)\n",
    "initial_weights = np.array([0.0, 1.0])\n",
    "#step_size = 7e-12\n",
    "#tolerance = 2.5e7\n",
    "step_size = 7e-13\n",
    "tolerance = 1.0e7"
   ]
  },
  {
   "cell_type": "markdown",
   "metadata": {},
   "source": [
    "Next run your gradient descent with the above parameters."
   ]
  },
  {
   "cell_type": "code",
   "execution_count": null,
   "metadata": {},
   "outputs": [],
   "source": [
    "# your code\n",
    "result = regression_gradient_descent(simple_feature_matrix, output, initial_weights, step_size, tolerance)\n",
    "print (result)"
   ]
  },
  {
   "cell_type": "markdown",
   "metadata": {},
   "source": [
    "How do your weights compare to those achieved in the closed form solution?"
   ]
  },
  {
   "cell_type": "markdown",
   "metadata": {},
   "source": [
    "Use your newly estimated weights and your predict_output() function to compute the predictions on all the TEST data (you will need to create a numpy array of the test feature_matrix and test output first)"
   ]
  },
  {
   "cell_type": "code",
   "execution_count": null,
   "metadata": {},
   "outputs": [],
   "source": [
    "# create a numpy array of the test feature_matrix and test output\n",
    "# your code\n",
    "(test_feature_matrix,test_output)=get_numpy_data(X_test,model_features,my_output)"
   ]
  },
  {
   "cell_type": "code",
   "execution_count": null,
   "metadata": {},
   "outputs": [],
   "source": [
    "# use predict_out function to calulate the prediction for test data.\n",
    "# your code\n",
    "test_prediction = prediction_output(test_feature_matrix, weight_2)"
   ]
  },
  {
   "cell_type": "code",
   "execution_count": null,
   "metadata": {},
   "outputs": [],
   "source": [
    "# print the RSS calualted from the test data.\n",
    "# your code\n",
    "test_residual = test_output - test_predction\n",
    "test_RSS = (test_residual ** 2).sum()\n",
    "print (test_RSS)"
   ]
  },
  {
   "cell_type": "markdown",
   "metadata": {},
   "source": [
    "# Running the Gradient Descent as Multivariate Regression"
   ]
  },
  {
   "cell_type": "markdown",
   "metadata": {},
   "source": [
    "Extend the code to use different multivariate features as the first half part of this project. "
   ]
  },
  {
   "cell_type": "code",
   "execution_count": null,
   "metadata": {},
   "outputs": [],
   "source": [
    "# your code\n",
    "simple_features = ['SQUARE FEET','BEDS','BATHS']\n",
    "my_output = 'PRICE'\n",
    "(simple_feature_matrix, output) = get_numpy_data(df, simple_features, my_output)\n",
    "initial_weights = np.array([0.0, 1.0])\n",
    "#step_size = 7e-12\n",
    "#tolerance = 2.5e7\n",
    "step_size = 7e-13\n",
    "tolerance = 1.0e7\n",
    "result = regression_gradient_descent(simple_feature_matrix, output, initial_weights, step_size, tolerance)\n",
    "print (result)\n",
    "(test_feature_matrix,test_output)=get_numpy_data(X_test,simple_features,my_output)\n",
    "test_prediction = prediction_output(test_feature_matrix, weight_2)\n",
    "test_residual = test_output - test_predction\n",
    "test_RSS = (test_residual ** 2).sum()\n",
    "print (test_RSS)"
   ]
  },
  {
   "cell_type": "markdown",
   "metadata": {
    "collapsed": true
   },
   "source": [
    "# Research"
   ]
  },
  {
   "cell_type": "markdown",
   "metadata": {},
   "source": [
    "Try change the step_size and tolerance, how do the results change? (BE CAREFUL about the constant you picked, it may take a long time for the algorithm to converge.)"
   ]
  },
  {
   "cell_type": "code",
   "execution_count": null,
   "metadata": {},
   "outputs": [],
   "source": [
    "# your code\n",
    "# your code\n",
    "simple_features = ['SQUARE FEET','BEDS','BATHS']\n",
    "my_output = 'PRICE'\n",
    "(simple_feature_matrix, output) = get_numpy_data(df, simple_features, my_output)\n",
    "initial_weights = np.array([0.0, 1.0])\n",
    "step_size = 4e-12\n",
    "tolerance = 3.2e7\n",
    "result = regression_gradient_descent(simple_feature_matrix, output, initial_weights, step_size, tolerance)\n",
    "print (result)\n",
    "(test_feature_matrix,test_output)=get_numpy_data(X_test,simple_features,my_output)\n",
    "test_prediction = prediction_output(test_feature_matrix, weight_2)\n",
    "test_residual = test_output - test_predction\n",
    "test_RSS = (test_residual ** 2).sum()\n",
    "print (test_RSS)"
   ]
  }
 ],
 "metadata": {
  "kernelspec": {
   "display_name": "Python 3",
   "language": "python",
   "name": "python3"
  },
  "language_info": {
   "codemirror_mode": {
    "name": "ipython",
    "version": 3
   },
   "file_extension": ".py",
   "mimetype": "text/x-python",
   "name": "python",
   "nbconvert_exporter": "python",
   "pygments_lexer": "ipython3",
   "version": "3.7.3"
  }
 },
 "nbformat": 4,
 "nbformat_minor": 1
}
