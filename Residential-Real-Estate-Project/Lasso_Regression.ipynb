{
 "cells": [
  {
   "cell_type": "markdown",
   "metadata": {},
   "source": [
    "# Project 5: Feature Selection and LASSO"
   ]
  },
  {
   "cell_type": "markdown",
   "metadata": {},
   "source": [
    "In this notebook, you will use LASSO to select features, building on a pre-implemented solver for LASSO. You will:\n",
    "* Run LASSO with different L1 penalties.\n",
    "* Choose best L1 penalty using a validation set.\n",
    "* Choose best L1 penalty using a validation set, with additional constraint on the size of subset.\n",
    "In the second part, you will implement your own LASSO solver, using coordinate descent.\n",
    "\n",
    "We will continue to use the House data from Redfin."
   ]
  },
  {
   "cell_type": "code",
   "execution_count": 104,
   "metadata": {},
   "outputs": [],
   "source": [
    "import numpy as np\n",
    "import pandas as pd\n",
    "import pprint"
   ]
  },
  {
   "cell_type": "code",
   "execution_count": 105,
   "metadata": {},
   "outputs": [],
   "source": [
    "import matplotlib.pyplot as plt\n",
    "from sklearn.linear_model import Lasso\n",
    "from sklearn.preprocessing import scale"
   ]
  },
  {
   "cell_type": "markdown",
   "metadata": {},
   "source": [
    "# Load in house sales data"
   ]
  },
  {
   "cell_type": "code",
   "execution_count": 106,
   "metadata": {},
   "outputs": [],
   "source": [
    "# your code\n",
    "df = pd.read_csv('santa_clara_county.csv')\n",
    "df = df[df['PRICE'].notnull()]\n",
    "df = df[df['SQUARE FEET'].notnull()]\n",
    "df = df[df['LOT SIZE'].notnull()]\n",
    "df = df[df['BEDS'].notnull()]\n",
    "df = df[df['BATHS'].notnull()]\n",
    "df = df[df['ZIP OR POSTAL CODE'].notnull()]\n",
    "df = df[df['YEAR BUILT'].notnull()]\n",
    "df = df[df['CITY'].notnull()]\n",
    "df = df[df['PROPERTY TYPE'].notnull()]"
   ]
  },
  {
   "cell_type": "markdown",
   "metadata": {},
   "source": [
    "# Create new features"
   ]
  },
  {
   "cell_type": "markdown",
   "metadata": {},
   "source": [
    "Recall in Project 2, we consider features that are some transformations of inputs.\n",
    "Create square root of SQUARE FEET, square root of LOT SIZE, SQUARE of BEDS, and SQUARE of BATHS\n",
    "* Squaring bedrooms will increase the separation between not many bedrooms (e.g. 1) and lots of bedrooms (e.g. 4) since 1^2 = 1 but 4^2 = 16. Consequently this variable will mostly affect houses with many bedrooms.\n",
    "* On the other hand, taking square root of sqft_living will decrease the separation between big house and small house. The owner may not be exactly twice as happy for getting a house that is twice as big.\n"
   ]
  },
  {
   "cell_type": "code",
   "execution_count": 107,
   "metadata": {},
   "outputs": [],
   "source": [
    "# your code\n",
    "import math\n",
    "from math import sqrt"
   ]
  },
  {
   "cell_type": "code",
   "execution_count": 108,
   "metadata": {},
   "outputs": [],
   "source": [
    "df['sqft_sqrt'] = df['SQUARE FEET'].apply(sqrt)\n",
    "df['lot_sqrt']= df['LOT SIZE'].apply(sqrt)\n",
    "df['bedrooms_square'] = df['BEDS'].apply(lambda x:x**2)\n",
    "df['bath_square'] = df['BATHS'].apply(lambda x:x**2)"
   ]
  },
  {
   "cell_type": "markdown",
   "metadata": {},
   "source": [
    "# Learn regression weights with L1 penalty\n"
   ]
  },
  {
   "cell_type": "markdown",
   "metadata": {},
   "source": [
    "Let us fit a model with all the features available ('SQUARE FEET', 'LOT SIZE', \n",
    "                'BEDS', 'BATHS', 'CITY', \n",
    "                'PROPERTY TYPE', 'ZIP OR POSTAL CODE', \n",
    "                'YEAR BUILT'), plus the features we just created above. \n",
    "                \n",
    "Note: For 'CITY' and 'PROPERTY TYPE' convert them to categorical features first then do label encoding."
   ]
  },
  {
   "cell_type": "code",
   "execution_count": 109,
   "metadata": {},
   "outputs": [],
   "source": [
    "df['CITY'] = df['CITY'].astype('category')\n",
    "df['PROPERTY TYPE'] = df['PROPERTY TYPE'].astype('category')"
   ]
  },
  {
   "cell_type": "code",
   "execution_count": 110,
   "metadata": {},
   "outputs": [],
   "source": [
    "df['CITY_cat'] = df['CITY'].cat.codes\n",
    "df['PROPERTY TYPE_cat'] = df['PROPERTY TYPE'].cat.codes"
   ]
  },
  {
   "cell_type": "code",
   "execution_count": 111,
   "metadata": {},
   "outputs": [],
   "source": [
    "all_features = ['SQUARE FEET', 'LOT SIZE', \n",
    "                'BEDS', 'BATHS', 'CITY_cat', \n",
    "                'PROPERTY TYPE_cat', 'ZIP OR POSTAL CODE', \n",
    "                'YEAR BUILT', 'sqft_sqrt','lot_sqrt','bedrooms_square','bath_square']"
   ]
  },
  {
   "cell_type": "markdown",
   "metadata": {},
   "source": [
    "Applying L1 penalty = 1e7 using lasso Regression."
   ]
  },
  {
   "cell_type": "code",
   "execution_count": 112,
   "metadata": {},
   "outputs": [],
   "source": [
    "# your code\n",
    "L1_penalty = 1e7\n",
    "model = Lasso(alpha = L1_penalty)\n",
    "lasso_model = model.fit(df[all_features],df['PRICE'])"
   ]
  },
  {
   "cell_type": "markdown",
   "metadata": {},
   "source": [
    "Find what features had non-zero weight."
   ]
  },
  {
   "cell_type": "code",
   "execution_count": 113,
   "metadata": {},
   "outputs": [],
   "source": [
    "# copy over the function which prints the coefficients and intercept.\n",
    "def coef(coefficients,intercept,input_features):\n",
    "    n = len(input_features)\n",
    "    for i in range(0,n):\n",
    "        print ('The coefficient for ' + input_features[i] + ' is ' + str(coefficients[i]))\n",
    "    print ('The intercept is ' + str(intercept))"
   ]
  },
  {
   "cell_type": "code",
   "execution_count": 114,
   "metadata": {},
   "outputs": [
    {
     "name": "stdout",
     "output_type": "stream",
     "text": [
      "The coefficient for SQUARE FEET is 729.0099588410328\n",
      "The coefficient for LOT SIZE is 4.138578724255458\n",
      "The coefficient for BEDS is 0.0\n",
      "The coefficient for BATHS is -0.0\n",
      "The coefficient for CITY_cat is -0.0\n",
      "The coefficient for PROPERTY TYPE_cat is 0.0\n",
      "The coefficient for ZIP OR POSTAL CODE is -0.0\n",
      "The coefficient for YEAR BUILT is -0.0\n",
      "The coefficient for sqft_sqrt is -0.0\n",
      "The coefficient for lot_sqrt is 0.0\n",
      "The coefficient for bedrooms_square is 0.0\n",
      "The coefficient for bath_square is -0.0\n",
      "The intercept is 27692.56800360931\n"
     ]
    }
   ],
   "source": [
    "# your code \n",
    "coef(lasso_model.coef_,lasso_model.intercept_,all_features)"
   ]
  },
  {
   "cell_type": "markdown",
   "metadata": {},
   "source": [
    "Note that a majority of the weights have been set to zero. So by setting an L1 penalty that's large enough, we are performing a subset selection.\n",
    "\n",
    "According to this list of weights, which of the features have been chosen?"
   ]
  },
  {
   "cell_type": "markdown",
   "metadata": {},
   "source": [
    "# Selecting an L1 penalty"
   ]
  },
  {
   "cell_type": "markdown",
   "metadata": {},
   "source": [
    "To find a good L1 penalty, we will explore multiple values using a validation set. Let us do three way split into train, validation, and test sets with 45/45/10"
   ]
  },
  {
   "cell_type": "code",
   "execution_count": 115,
   "metadata": {},
   "outputs": [],
   "source": [
    "# your code\n",
    "train_set = df.sample(frac= 0.45, random_state = 1)\n",
    "rf = df.drop(train_set.index)\n",
    "validation_set = rf.sample(frac = 0.45, random_state = 1)\n",
    "test_set = df.drop(validation_set.index)"
   ]
  },
  {
   "cell_type": "markdown",
   "metadata": {},
   "source": [
    "Next, we write a loop that does the following:\n",
    "For l1_penalty in [10^1, 10^1.5, 10^2, 10^2.5, ..., 10^8] (to get this in Python, type np.logspace(1, 8, num=15).)\n",
    "Fit a regression model with a given l1_penalty on TRAIN data. Specify alpha=l1_penalty in the parameter list.\n",
    "Compute the RSS on VALIDATION data for that l1_penalty\n",
    "Report which l1_penalty produced the lowest RSS on validation data."
   ]
  },
  {
   "cell_type": "code",
   "execution_count": 122,
   "metadata": {},
   "outputs": [
    {
     "name": "stdout",
     "output_type": "stream",
     "text": [
      "{10.0: 58575498910376.41,\n",
      " 31.622776601683793: 58562343424770.13,\n",
      " 100.0: 58520659471631.94,\n",
      " 316.22776601683796: 58388184793617.125,\n",
      " 1000.0: 57973111441527.21,\n",
      " 3162.2776601683795: 56771185203116.84,\n",
      " 10000.0: 53601926732321.86,\n",
      " 31622.776601683792: 47989620805568.67,\n",
      " 100000.0: 50739454518719.82,\n",
      " 316227.7660168379: 58643552324142.87,\n",
      " 1000000.0: 59269440702711.47,\n",
      " 3162277.6601683795: 58675488017651.48,\n",
      " 10000000.0: 58639777402570.07,\n",
      " 31622776.60168379: 58756537893387.12,\n",
      " 100000000.0: 59268720710420.05}\n"
     ]
    },
    {
     "name": "stderr",
     "output_type": "stream",
     "text": [
      "/anaconda3/lib/python3.7/site-packages/sklearn/linear_model/coordinate_descent.py:492: ConvergenceWarning: Objective did not converge. You might want to increase the number of iterations. Fitting data with very small alpha may cause precision problems.\n",
      "  ConvergenceWarning)\n",
      "/anaconda3/lib/python3.7/site-packages/sklearn/linear_model/coordinate_descent.py:492: ConvergenceWarning: Objective did not converge. You might want to increase the number of iterations. Fitting data with very small alpha may cause precision problems.\n",
      "  ConvergenceWarning)\n",
      "/anaconda3/lib/python3.7/site-packages/sklearn/linear_model/coordinate_descent.py:492: ConvergenceWarning: Objective did not converge. You might want to increase the number of iterations. Fitting data with very small alpha may cause precision problems.\n",
      "  ConvergenceWarning)\n",
      "/anaconda3/lib/python3.7/site-packages/sklearn/linear_model/coordinate_descent.py:492: ConvergenceWarning: Objective did not converge. You might want to increase the number of iterations. Fitting data with very small alpha may cause precision problems.\n",
      "  ConvergenceWarning)\n",
      "/anaconda3/lib/python3.7/site-packages/sklearn/linear_model/coordinate_descent.py:492: ConvergenceWarning: Objective did not converge. You might want to increase the number of iterations. Fitting data with very small alpha may cause precision problems.\n",
      "  ConvergenceWarning)\n",
      "/anaconda3/lib/python3.7/site-packages/sklearn/linear_model/coordinate_descent.py:492: ConvergenceWarning: Objective did not converge. You might want to increase the number of iterations. Fitting data with very small alpha may cause precision problems.\n",
      "  ConvergenceWarning)\n",
      "/anaconda3/lib/python3.7/site-packages/sklearn/linear_model/coordinate_descent.py:492: ConvergenceWarning: Objective did not converge. You might want to increase the number of iterations. Fitting data with very small alpha may cause precision problems.\n",
      "  ConvergenceWarning)\n",
      "/anaconda3/lib/python3.7/site-packages/sklearn/linear_model/coordinate_descent.py:492: ConvergenceWarning: Objective did not converge. You might want to increase the number of iterations. Fitting data with very small alpha may cause precision problems.\n",
      "  ConvergenceWarning)\n"
     ]
    }
   ],
   "source": [
    "validation_rss = {}\n",
    "for l1_penalty in np.logspace(1,8,num=15):\n",
    "    \n",
    "    model = Lasso(alpha = l1_penalty)\n",
    "    \n",
    "    lasso_model = model.fit(train_set[all_features],train_set['PRICE'])\n",
    "    predictions = model.predict(validation_set[all_features])\n",
    "    \n",
    "    residuals = validation_set['PRICE'] - predictions\n",
    "    rss = sum(residuals**2)\n",
    "    validation_rss[l1_penalty] = rss\n",
    "    \n",
    "pprint.pprint (validation_rss)"
   ]
  },
  {
   "cell_type": "code",
   "execution_count": 87,
   "metadata": {},
   "outputs": [
    {
     "name": "stdout",
     "output_type": "stream",
     "text": [
      "(31622.776601683792, 47989620805568.67)\n"
     ]
    }
   ],
   "source": [
    "print (min(validation_rss.items(), key = lambda x:x[1]))"
   ]
  },
  {
   "cell_type": "markdown",
   "metadata": {},
   "source": [
    "What was the best value for the l1_penalty? and use this value of L1 penalty, how many nonzero weights do you have?"
   ]
  },
  {
   "cell_type": "code",
   "execution_count": 124,
   "metadata": {},
   "outputs": [
    {
     "name": "stdout",
     "output_type": "stream",
     "text": [
      "The coefficient for SQUARE FEET is 2721.8753171803296\n",
      "The coefficient for LOT SIZE is 80.30452076552201\n",
      "The coefficient for BEDS is 0.0\n",
      "The coefficient for BATHS is 0.0\n",
      "The coefficient for CITY_cat is -1086625.5608474899\n",
      "The coefficient for PROPERTY TYPE_cat is -275993.59279605834\n",
      "The coefficient for ZIP OR POSTAL CODE is 9643.911388233591\n",
      "The coefficient for YEAR BUILT is -1546.1582516172948\n",
      "The coefficient for sqft_sqrt is -200742.13359684445\n",
      "The coefficient for lot_sqrt is 5134.41220380192\n",
      "The coefficient for bedrooms_square is 47489.29374238888\n",
      "The coefficient for bath_square is -50808.88870658876\n",
      "The intercept is -898059084.9188739\n"
     ]
    }
   ],
   "source": [
    "# your code\n",
    "L1_penalty = 31622.776601683792\n",
    "model = Lasso(alpha = L1_penalty)\n",
    "lasso_model = model.fit(train_set[all_features],train_set['PRICE'])\n",
    "coef(lasso_model.coef_,lasso_model.intercept_,all_features)"
   ]
  },
  {
   "cell_type": "markdown",
   "metadata": {},
   "source": [
    "# Limit the number of nonzero weights"
   ]
  },
  {
   "cell_type": "markdown",
   "metadata": {},
   "source": [
    "In data industry, sometimes there are limitations to derive What if we want to derive \"a rule of thumb\" --- an interpretable model that has only a few features in them. Now let's consider the case where if we absolutely wanted to limit ourselves to, say, 7 features. \n",
    "\n",
    "In this section, you are going to implement a simple, two phase procedure to achive this goal:\n",
    "Explore a large range of l1_penalty values to find a narrow region of l1_penalty values where models are likely to have the desired number of non-zero weights.\n",
    "Further explore the narrow region you found to find a good value for l1_penalty that achieves the desired sparsity. Here, we will again use a validation set to choose the best value for l1_penalty."
   ]
  },
  {
   "cell_type": "code",
   "execution_count": 89,
   "metadata": {},
   "outputs": [],
   "source": [
    "max_nonzeros = 7"
   ]
  },
  {
   "cell_type": "markdown",
   "metadata": {},
   "source": [
    "## Exploring the larger range of values to find a narrow range with the desired sparsity"
   ]
  },
  {
   "cell_type": "markdown",
   "metadata": {},
   "source": [
    "Let's define a wide range of possible l1_penalty_values:"
   ]
  },
  {
   "cell_type": "code",
   "execution_count": 90,
   "metadata": {},
   "outputs": [],
   "source": [
    "l1_penalty_values = np.logspace(5, 6, num=20)"
   ]
  },
  {
   "cell_type": "markdown",
   "metadata": {},
   "source": [
    "Now, implement a loop that search through this space of possible l1_penalty values:\n",
    "For l1_penalty in np.logspace(5, 6, num=20):\n",
    "Fit a regression model with a given l1_penalty on TRAIN data. Specify alpha=l1_penalty. in the parameter list.\n",
    "Extract the weights of the model and count the number of nonzeros. Save the number of nonzeros to a list.\n"
   ]
  },
  {
   "cell_type": "code",
   "execution_count": 121,
   "metadata": {},
   "outputs": [
    {
     "name": "stdout",
     "output_type": "stream",
     "text": [
      "{100000.0: (array([ 0,  1,  4,  6,  7,  8,  9, 10, 11]),),\n",
      " 112883.78916846884: (array([ 0,  1,  4,  6,  7,  8,  9, 10, 11]),),\n",
      " 127427.49857031347: (array([ 0,  1,  4,  6,  7,  8,  9, 10, 11]),),\n",
      " 143844.9888287663: (array([ 0,  1,  4,  6,  7,  8,  9, 10, 11]),),\n",
      " 162377.67391887208: (array([ 0,  1,  4,  6,  7,  8,  9, 10, 11]),),\n",
      " 183298.07108324376: (array([ 0,  1,  6,  7,  8,  9, 10, 11]),),\n",
      " 206913.808111479: (array([ 0,  1,  6,  7,  8,  9, 10, 11]),),\n",
      " 233572.14690901214: (array([ 0,  1,  6,  7,  8,  9, 10, 11]),),\n",
      " 263665.08987303555: (array([ 0,  1,  6,  7,  8,  9, 10, 11]),),\n",
      " 297635.14416313195: (array([ 0,  1,  6,  7,  8,  9, 10, 11]),),\n",
      " 335981.8286283781: (array([ 0,  1,  6,  7,  8,  9, 10, 11]),),\n",
      " 379269.0190732254: (array([ 0,  1,  6,  7,  8,  9, 10, 11]),),\n",
      " 428133.2398719396: (array([ 0,  1,  6,  7,  9, 10, 11]),),\n",
      " 483293.0238571752: (array([ 0,  1,  6,  7,  9, 10, 11]),),\n",
      " 545559.4781168514: (array([ 0,  1,  6,  7, 10, 11]),),\n",
      " 615848.2110660267: (array([ 0,  1,  6,  7, 10, 11]),),\n",
      " 695192.7961775606: (array([ 0,  1,  6,  7, 10]),),\n",
      " 784759.9703514606: (array([ 0,  1,  6,  7, 10]),),\n",
      " 885866.7904100833: (array([ 0,  1,  6,  7, 10]),),\n",
      " 1000000.0: (array([0, 1, 6, 7]),)}\n"
     ]
    },
    {
     "name": "stderr",
     "output_type": "stream",
     "text": [
      "/anaconda3/lib/python3.7/site-packages/sklearn/linear_model/coordinate_descent.py:492: ConvergenceWarning: Objective did not converge. You might want to increase the number of iterations. Fitting data with very small alpha may cause precision problems.\n",
      "  ConvergenceWarning)\n",
      "/anaconda3/lib/python3.7/site-packages/sklearn/linear_model/coordinate_descent.py:492: ConvergenceWarning: Objective did not converge. You might want to increase the number of iterations. Fitting data with very small alpha may cause precision problems.\n",
      "  ConvergenceWarning)\n"
     ]
    }
   ],
   "source": [
    "# your code\n",
    "weight_coef = {}\n",
    "for l1_penalty in l1_penalty_values:\n",
    "    model = Lasso(alpha = l1_penalty)\n",
    "    lasso_model = model.fit(train_set[all_features],train_set['PRICE'])\n",
    "    weight_coef[l1_penalty] = np.count_nonzero(lasso_model.coef_)\n",
    "pprint.pprint (l1_penalty,np.count_nonzero(lasso_model.coef_))"
   ]
  },
  {
   "cell_type": "markdown",
   "metadata": {},
   "source": [
    "Out of this large range, we want to find the two ends of our desired narrow range of `l1_penalty`.  At one end, we will have `l1_penalty` values that have too few non-zeros, and at the other end, we will have an `l1_penalty` that has too many non-zeros.  \n",
    "\n",
    "More formally, find:\n",
    "* The largest `l1_penalty` that has more non-zeros than `max_nonzeros` (if we pick a penalty smaller than this value, we will definitely have too many non-zero weights)\n",
    "    * Store this value in the variable `l1_penalty_min` (we will use it later)\n",
    "* The smallest `l1_penalty` that has fewer non-zeros than `max_nonzeros` (if we pick a penalty larger than this value, we will definitely have too few non-zero weights)\n",
    "    * Store this value in the variable `l1_penalty_max` (we will use it later)\n",
    "\n",
    "\n",
    "*Hint: there are many ways to do this, can you try to code it up with at least two ways:*\n",
    "* Programmatically within the loop above\n",
    "* Creating a list with the number of non-zeros for each value of `l1_penalty` and inspecting it to find the appropriate boundaries."
   ]
  },
  {
   "cell_type": "code",
   "execution_count": 96,
   "metadata": {},
   "outputs": [
    {
     "name": "stdout",
     "output_type": "stream",
     "text": [
      "183298.071083\n",
      "545559.478117\n"
     ]
    }
   ],
   "source": [
    "# your code"
   ]
  },
  {
   "cell_type": "markdown",
   "metadata": {},
   "source": [
    "What values did you find for l1_penalty_min and l1_penalty_max, respectively?"
   ]
  },
  {
   "cell_type": "markdown",
   "metadata": {},
   "source": [
    "## Exploring the narrow range of values to find the solution with the right number of non-zeros that has lowest RSS on the validation set \n",
    "\n",
    "We will now explore the narrow region of `l1_penalty` values we found:"
   ]
  },
  {
   "cell_type": "code",
   "execution_count": 97,
   "metadata": {
    "collapsed": true
   },
   "outputs": [],
   "source": [
    "l1_penalty_values = np.linspace(l1_penalty_min,l1_penalty_max,20)"
   ]
  },
  {
   "cell_type": "markdown",
   "metadata": {},
   "source": [
    "* For `l1_penalty` in `np.linspace(l1_penalty_min,l1_penalty_max,20)`:\n",
    "    * Fit a regression model with a given `l1_penalty` on TRAIN data. Specify `alpah =l1_penalty` in the parameter list. \n",
    "    * Measure the RSS of the learned model on the VALIDATION set\n",
    "\n",
    "Find the model that the lowest RSS on the VALIDATION set and has sparsity *equal* to `max_nonzeros`."
   ]
  },
  {
   "cell_type": "code",
   "execution_count": 98,
   "metadata": {},
   "outputs": [
    {
     "name": "stdout",
     "output_type": "stream",
     "text": [
      "(183298.07108324376, 8, 1842110709172621.0)\n",
      "(202364.46092711785, 7, 1763625707853340.2)\n",
      "(221430.85077099194, 7, 1719653458102102.5)\n",
      "(240497.24061486602, 7, 1676259035664565.5)\n",
      "(259563.63045874011, 7, 1633426409860284.8)\n",
      "(278630.0203026142, 7, 1591167401829669.8)\n",
      "(297696.41014648828, 7, 1549399714751410.8)\n",
      "(316762.79999036237, 7, 1508131310832209.8)\n",
      "(335829.18983423646, 7, 1470458351324287.8)\n",
      "(354895.57967811055, 7, 1431154947209693.2)\n",
      "(373961.96952198463, 7, 1392399914103245.2)\n",
      "(393028.35936585872, 7, 1354171875124205.0)\n",
      "(412094.74920973281, 7, 1316365422496779.0)\n",
      "(431161.13905360689, 7, 1279183704126268.2)\n",
      "(450227.52889748098, 7, 1242712178804889.0)\n",
      "(469293.91874135507, 7, 1206843788883919.8)\n",
      "(488360.30858522916, 7, 1171581193967222.0)\n",
      "(507426.69842910324, 6, 1128195528575776.8)\n",
      "(526493.08827297739, 6, 1073388880271762.6)\n",
      "(545559.47811685142, 6, 1016473953078559.2)\n"
     ]
    }
   ],
   "source": [
    "# your code\n",
    "validation_rss = {}\n",
    "for l1_penalty in l1_penalty_values:\n",
    "    model = Lasso(alpha = L1_penalty)\n",
    "    lasso_model = model.fit(train_set[all_features],train_set['PRICE'])\n",
    "    predictions = model.predict(validation_set[all_features])\n",
    "    residuals = validation_set['PRICE'] -predictions\n",
    "    rss = sum(residuals**2)\n",
    "    validation_rss[l1_penalty] = np.count_nonzero(lasso_model.coef_)\n",
    "pprint.pprint (validation_rss,rss)"
   ]
  },
  {
   "cell_type": "markdown",
   "metadata": {},
   "source": [
    "You can try another round of fine tuning of the parameters. The main technique to learn here is how to tune the parameters using granular way as described here."
   ]
  },
  {
   "cell_type": "markdown",
   "metadata": {},
   "source": [
    "What value of l1_penalty in our narrow range has the lowest RSS on the VALIDATION set and has sparsity equal to max_nonzeros?\n",
    "\n",
    "What features in this model have non-zero coefficients?"
   ]
  },
  {
   "cell_type": "code",
   "execution_count": 101,
   "metadata": {},
   "outputs": [
    {
     "name": "stdout",
     "output_type": "stream",
     "text": [
      "The coefficient for SQUARE FEET is 942.580193609\n",
      "The coefficient for LOT SIZE is 261.778092592\n",
      "The coefficient for BEDS is -0.0\n",
      "The coefficient for BATHS is -0.0\n",
      "The coefficient for CITY_cat is -0.0\n",
      "The coefficient for PROPERTY TYPE_cat is -0.0\n",
      "The coefficient for ZIP OR POSTAL CODE is -2022.20098513\n",
      "The coefficient for YEAR BUILT is 1899.88039708\n",
      "The coefficient for sqft_sqrt is -4540.26498027\n",
      "The coefficient for lot_sqrt is -19832.7645654\n",
      "The coefficient for bedrooms_square is -0.0\n",
      "The coefficient for bath_square is -34158.357294\n",
      "The intercept is 186952695.967\n"
     ]
    }
   ],
   "source": [
    "# your code\n",
    "L1_penalty = \n",
    "model = Lasso(alpha = L1_penalty)\n",
    "lasso_model = model.fit(train_set[all_features],train_set['PRICE'])\n",
    "coef(lasso_model.coef_,lasso_model.intercept_,all_features)"
   ]
  },
  {
   "cell_type": "markdown",
   "metadata": {},
   "source": [
    "Does the non-zero coefficient makes sense to you? what does each of the parametere mean?"
   ]
  },
  {
   "cell_type": "markdown",
   "metadata": {},
   "source": [
    "# Coordinate Descent for Lasso Regression"
   ]
  },
  {
   "cell_type": "markdown",
   "metadata": {},
   "source": [
    "In this section, you will implement your very own LASSO solver via coordinate descent. You will:\n",
    "* Write a function to normalize features\n",
    "* Implement coordinate descent for LASSO\n",
    "* Explore effects of L1 penalty"
   ]
  },
  {
   "cell_type": "markdown",
   "metadata": {},
   "source": [
    "Let's reuse the get_num_data() and predict_output() function from Project 2. Copy them over."
   ]
  },
  {
   "cell_type": "code",
   "execution_count": 125,
   "metadata": {},
   "outputs": [],
   "source": [
    "# your code\n",
    "def get_numpy_data(data, features, output):\n",
    "    data['constant'] = 1\n",
    "    features = ['constant'] + features\n",
    "    feature_frame = data[features]\n",
    "    feature_matrix = feature_frame.to_numpy()\n",
    "    output_array = data[output].to_numpy()\n",
    "    return(feature_matrix, output_array)"
   ]
  },
  {
   "cell_type": "code",
   "execution_count": 126,
   "metadata": {},
   "outputs": [],
   "source": [
    "# your code\n",
    "def predict_output(feature_matrix, weights):\n",
    "    predictions = np.dot(feature_matrix,weights)\n",
    "    return(predictions)"
   ]
  },
  {
   "cell_type": "markdown",
   "metadata": {},
   "source": [
    "# Normalize features\n",
    "In the house dataset, features vary wildly in their relative magnitude: `SQUARE FEET` is very large overall compared to `BEDS`, for instance. As a result, weight for `SQUARE FEET` would be much smaller than weight for `BEDS`. This is problematic because \"small\" weights are dropped first as `l1_penalty` goes up. \n",
    "\n",
    "To give equal considerations for all features, we need to **normalize features**: we divide each feature by its 2-norm so that the transformed feature has norm 1.\n",
    "\n",
    "Let's see how we can do this normalization easily with Numpy: let us first consider a small matrix."
   ]
  },
  {
   "cell_type": "code",
   "execution_count": 128,
   "metadata": {},
   "outputs": [
    {
     "name": "stdout",
     "output_type": "stream",
     "text": [
      "[[ 1.  3.  9.]\n",
      " [ 4. 12. 19.]]\n"
     ]
    }
   ],
   "source": [
    "X = np.array([[1.,3.,9.],[4.,12.,19.]])\n",
    "print (X)"
   ]
  },
  {
   "cell_type": "markdown",
   "metadata": {},
   "source": [
    "Numpy provides a shorthand for computing 2-norms of each column:"
   ]
  },
  {
   "cell_type": "code",
   "execution_count": 130,
   "metadata": {},
   "outputs": [
    {
     "name": "stdout",
     "output_type": "stream",
     "text": [
      "[ 4.12310563 12.36931688 21.02379604]\n"
     ]
    }
   ],
   "source": [
    "norms = np.linalg.norm(X, axis=0) # gives [norm(X[:,0]), norm(X[:,1]), norm(X[:,2])]\n",
    "print (norms)"
   ]
  },
  {
   "cell_type": "markdown",
   "metadata": {},
   "source": [
    "To normalize, apply element-wise division:"
   ]
  },
  {
   "cell_type": "code",
   "execution_count": 131,
   "metadata": {},
   "outputs": [
    {
     "name": "stdout",
     "output_type": "stream",
     "text": [
      "[[0.24253563 0.24253563 0.42808634]\n",
      " [0.9701425  0.9701425  0.90373784]]\n"
     ]
    }
   ],
   "source": [
    "print (X / norms) # gives [X[:,0]/norm(X[:,0]), X[:,1]/norm(X[:,1]), X[:,2]/norm(X[:,2])]"
   ]
  },
  {
   "cell_type": "markdown",
   "metadata": {},
   "source": [
    "Using the shorthand we just covered, write a short function called `normalize_features(feature_matrix)`, which normalizes columns of a given feature matrix. The function should return a pair `(normalized_features, norms)`, where the second item contains the norms of original features. We will use these norms to normalize the test data in the same way as we normalized the training data. "
   ]
  },
  {
   "cell_type": "code",
   "execution_count": 132,
   "metadata": {},
   "outputs": [],
   "source": [
    "# your code\n",
    "def normalize_features(feature_matrix):\n",
    "    norms = np.linalg.norm(feature_matrix, axis = 0)\n",
    "    normalized_features = feature_matrix / norms\n",
    "    return(normalized_features, norms)"
   ]
  },
  {
   "cell_type": "markdown",
   "metadata": {},
   "source": [
    "To test your function, run the following:"
   ]
  },
  {
   "cell_type": "code",
   "execution_count": 134,
   "metadata": {},
   "outputs": [
    {
     "name": "stdout",
     "output_type": "stream",
     "text": [
      "[[0.6 0.6 0.6]\n",
      " [0.8 0.8 0.8]]\n",
      "[ 5. 10. 15.]\n"
     ]
    }
   ],
   "source": [
    "features, norms = normalize_features(np.array([[3.,6.,9.],[4.,8.,12.]]))\n",
    "print (features)\n",
    "# should print\n",
    "# [[ 0.6  0.6  0.6]\n",
    "#  [ 0.8  0.8  0.8]]\n",
    "print (norms)\n",
    "# should print\n",
    "# [5.  10.  15.]"
   ]
  },
  {
   "cell_type": "markdown",
   "metadata": {},
   "source": [
    "# Implementing Coordinate Descent with normalized features"
   ]
  },
  {
   "cell_type": "markdown",
   "metadata": {},
   "source": [
    "We seek to obtain a sparse set of weights by minimizing the LASSO cost function\n",
    "```\n",
    "SUM[ (prediction - output)^2 ] + lambda*( |w[1]| + ... + |w[k]|).\n",
    "```\n",
    "(By convention, we do not include `w[0]` in the L1 penalty term. We never want to push the intercept to zero.)\n",
    "\n",
    "The absolute value sign makes the cost function non-differentiable, so simple gradient descent is not viable (you would need to implement a method called subgradient descent). Instead, we will use **coordinate descent**: at each iteration, we will fix all weights but weight `i` and find the value of weight `i` that minimizes the objective. That is, we look for\n",
    "```\n",
    "argmin_{w[i]} [ SUM[ (prediction - output)^2 ] + lambda*( |w[1]| + ... + |w[k]|) ]\n",
    "```\n",
    "where all weights other than `w[i]` are held to be constant. We will optimize one `w[i]` at a time, circling through the weights multiple times.  \n",
    "  1. Pick a coordinate `i`\n",
    "  2. Compute `w[i]` that minimizes the cost function `SUM[ (prediction - output)^2 ] + lambda*( |w[1]| + ... + |w[k]|)`\n",
    "  3. Repeat Steps 1 and 2 for all coordinates, multiple times"
   ]
  },
  {
   "cell_type": "markdown",
   "metadata": {},
   "source": [
    "For this notebook, we use **cyclical coordinate descent with normalized features**, where we cycle through coordinates 0 to (d-1) in order, and assume the features were normalized as discussed above. The formula for optimizing each coordinate is as follows:\n",
    "```\n",
    "       ┌ (ro[i] + lambda/2)     if ro[i] < -lambda/2\n",
    "w[i] = ├ 0                      if -lambda/2 <= ro[i] <= lambda/2\n",
    "       └ (ro[i] - lambda/2)     if ro[i] > lambda/2\n",
    "```\n",
    "where\n",
    "```\n",
    "ro[i] = SUM[ [feature_i]*(output - prediction + w[i]*[feature_i]) ].\n",
    "```\n",
    "\n",
    "Note that we do not regularize the weight of the constant feature (intercept) `w[0]`, so, for this weight, the update is simply:\n",
    "```\n",
    "w[0] = ro[i]\n",
    "```"
   ]
  },
  {
   "cell_type": "markdown",
   "metadata": {},
   "source": [
    "## Effect of L1 penalty"
   ]
  },
  {
   "cell_type": "markdown",
   "metadata": {},
   "source": [
    "Let us consider a simple model with 2 features:"
   ]
  },
  {
   "cell_type": "code",
   "execution_count": 135,
   "metadata": {},
   "outputs": [],
   "source": [
    "simple_features = ['SQUARE FEET', 'BEDS']\n",
    "my_output = 'PRICE'\n",
    "(simple_feature_matrix, output) = get_numpy_data(df, simple_features, my_output)"
   ]
  },
  {
   "cell_type": "markdown",
   "metadata": {},
   "source": [
    "Normalize the features first:"
   ]
  },
  {
   "cell_type": "code",
   "execution_count": 136,
   "metadata": {},
   "outputs": [],
   "source": [
    "# your code\n",
    "simple_feature_matrix,norms = normalize_features(simple_feature_matrix)"
   ]
  },
  {
   "cell_type": "markdown",
   "metadata": {},
   "source": [
    "We assign some random set of initial weights and inspect the values of ro[i]:"
   ]
  },
  {
   "cell_type": "code",
   "execution_count": 137,
   "metadata": {},
   "outputs": [],
   "source": [
    "weights = np.array([1., 4., 1.])"
   ]
  },
  {
   "cell_type": "markdown",
   "metadata": {},
   "source": [
    "Use `predict_output()` to make predictions on this data."
   ]
  },
  {
   "cell_type": "code",
   "execution_count": 142,
   "metadata": {},
   "outputs": [],
   "source": [
    "# your code\n",
    "prediction = predict_output(simple_feature_matrix, weights)"
   ]
  },
  {
   "cell_type": "markdown",
   "metadata": {},
   "source": [
    "Compute the values of `ro[i]` for each feature in this simple model, using the formula given above, using the formula:\n",
    "```\n",
    "ro[i] = SUM[ [feature_i]*(output - prediction + w[i]*[feature_i]) ]\n",
    "```\n",
    "\n",
    "*Hint: You can get a Numpy vector for feature_i using:*\n",
    "```\n",
    "simple_feature_matrix[:,i]\n",
    "```"
   ]
  },
  {
   "cell_type": "code",
   "execution_count": 146,
   "metadata": {},
   "outputs": [
    {
     "name": "stdout",
     "output_type": "stream",
     "text": [
      "[19614517.909663543, 21803049.009274505, 21091484.864712715]\n"
     ]
    }
   ],
   "source": [
    "# your code\n",
    "ro = [0 for h in range((simple_feature_matrix.shape)[1])]\n",
    "for i in range ((simple_feature_matrix.shape)[1]):\n",
    "    ro[i] = ((simple_feature_matrix[:,i])*(output - prediction + weights[i]*simple_feature_matrix[:,i])).sum()\n",
    "print (ro)"
   ]
  },
  {
   "cell_type": "markdown",
   "metadata": {},
   "source": [
    "Whenever ro[i] falls between -l1_penalty/2 and l1_penalty/2, the corresponding weight w[i] is sent to zero. Now suppose we were to take one step of coordinate descent on either feature 1 or feature 2. What range of values of l1_penalty would not set w[1] zero, but would set w[2] to zero, if we were to take a step in that coordinate?"
   ]
  },
  {
   "cell_type": "code",
   "execution_count": 120,
   "metadata": {},
   "outputs": [
    {
     "name": "stdout",
     "output_type": "stream",
     "text": [
      "-42182969.7294\n",
      "-43606098.0185\n"
     ]
    }
   ],
   "source": [
    "# your code"
   ]
  },
  {
   "cell_type": "markdown",
   "metadata": {},
   "source": [
    "What range of values of `l1_penalty` would set **both** `w[1]` and `w[2]` to zero, if we were to take a step in that coordinate? "
   ]
  },
  {
   "cell_type": "code",
   "execution_count": 121,
   "metadata": {
    "collapsed": true
   },
   "outputs": [],
   "source": [
    "# your code"
   ]
  },
  {
   "cell_type": "markdown",
   "metadata": {},
   "source": [
    "So we can say that `ro[i]` quantifies the significance of the i-th feature: the larger `ro[i]` is, the more likely it is for the i-th feature to be retained."
   ]
  },
  {
   "cell_type": "markdown",
   "metadata": {},
   "source": [
    "## Single Coordinate Descent Step"
   ]
  },
  {
   "cell_type": "markdown",
   "metadata": {},
   "source": [
    "Using the formula above, implement coordinate descent that minimizes the cost function over a single feature i. Note that the intercept (weight 0) is not regularized. The function should accept feature matrix, output, current weights, l1 penalty, and index of feature to optimize over. The function should return new weight for feature i."
   ]
  },
  {
   "cell_type": "code",
   "execution_count": 147,
   "metadata": {},
   "outputs": [],
   "source": [
    "def lasso_coordinate_descent_step(i, feature_matrix, output, weights, l1_penalty):\n",
    "    # compute prediction\n",
    "    # your code\n",
    "    prediction = predict_output(feature_matrix, weights)\n",
    "    # compute ro[i] = SUM[ [feature_i]*(output - prediction + weight[i]*[feature_i]) ]\n",
    "    # your code\n",
    "    ro_i= ((feature_matrix[:,i])*(output - prediction + weights[i]*feature_matrix[:,i])).sum()\n",
    "    if i == 0: # intercept -- do not regularize\n",
    "        # your code \n",
    "        new_weight_i = ro_i\n",
    "    elif ro_i < -l1_penalty/2.:\n",
    "        new_weight_i = ro_i+l1_penalty/2.\n",
    "    elif ro_i > -l1_penalty/2.:\n",
    "        new_weight_i = ro_i-l1_penalty/2.\n",
    "    else:\n",
    "        # your code\n",
    "        new_weight_i = 0\n",
    "    \n",
    "    return new_weight_i"
   ]
  },
  {
   "cell_type": "markdown",
   "metadata": {},
   "source": [
    "To test the function, run the following cell:"
   ]
  },
  {
   "cell_type": "code",
   "execution_count": 149,
   "metadata": {},
   "outputs": [
    {
     "name": "stdout",
     "output_type": "stream",
     "text": [
      "0.4255588466910251\n"
     ]
    }
   ],
   "source": [
    "# should print 0.425558846691\n",
    "import math\n",
    "print (lasso_coordinate_descent_step(1, np.array([[3./math.sqrt(13),1./math.sqrt(10)],[2./math.sqrt(13),3./math.sqrt(10)]]), \n",
    "                                   np.array([1., 1.]), np.array([1., 4.]), 0.1))"
   ]
  },
  {
   "cell_type": "markdown",
   "metadata": {},
   "source": [
    "## Cyclical coordinate descent "
   ]
  },
  {
   "cell_type": "markdown",
   "metadata": {},
   "source": [
    "Now that we have a function that optimizes the cost function over a single coordinate, let us implement cyclical coordinate descent where we optimize coordinates 0, 1, ..., (d-1) in order and repeat.\n",
    "\n",
    "When do we know to stop? Each time we scan all the coordinates (features) once, we measure the change in weight for each coordinate. If no coordinate changes by more than a specified threshold, we stop."
   ]
  },
  {
   "cell_type": "markdown",
   "metadata": {},
   "source": [
    "For each iteration:\n",
    "1. As you loop over features in order and perform coordinate descent, measure how much each coordinate changes.\n",
    "2. After the loop, if the maximum change across all coordinates is falls below the tolerance, stop. Otherwise, go back to step 1.\n",
    "\n",
    "Return weights\n",
    "\n",
    "**IMPORTANT: when computing a new weight for coordinate i, make sure to incorporate the new weights for coordinates 0, 1, ..., i-1. One good way is to update your weights variable in-place. See following pseudocode for illustration.**\n",
    "```\n",
    "for i in range(len(weights)):\n",
    "    old_weights_i = weights[i] # remember old value of weight[i], as it will be overwritten\n",
    "    # the following line uses new values for weight[0], weight[1], ..., weight[i-1]\n",
    "    #     and old values for weight[i], ..., weight[d-1]\n",
    "    weights[i] = lasso_coordinate_descent_step(i, feature_matrix, output, weights, l1_penalty)\n",
    "    \n",
    "    # use old_weights_i to compute change in coordinate\n",
    "    ...\n",
    "```"
   ]
  },
  {
   "cell_type": "code",
   "execution_count": 125,
   "metadata": {
    "collapsed": true
   },
   "outputs": [],
   "source": [
    "def lasso_cyclical_coordinate_descent(feature_matrix, output, initial_weights, l1_penalty, tolerance):\n",
    "    # your code #initialize weights\n",
    "    D = feature_matrix.shape[1]\n",
    "    weights = np.array(initial_weights)\n",
    "    change_in_coordination = tolerance * np.ones(len(weights)) # define change_in_coordination\n",
    "    while max(change_in_coordination) >= tolerance: \n",
    "        #for loop\n",
    "        # your code\n",
    "        for i in range(D):\n",
    "            old_weight_i = weights[i]\n",
    "            new_weight_i = lasso_coordinate_descent_step(i,feature_matrix,output,weights,l1_penalty)\n",
    "            change_in_coordination = np.abs(new_weight_i-old_weight_i)\n",
    "            weights[i] = new_weight_i\n",
    "    return weights"
   ]
  },
  {
   "cell_type": "markdown",
   "metadata": {},
   "source": [
    "Using the following parameters, learn the weights on the sales dataset. "
   ]
  },
  {
   "cell_type": "code",
   "execution_count": 133,
   "metadata": {
    "collapsed": true
   },
   "outputs": [],
   "source": [
    "simple_features = ['SQUARE FEET', 'BEDS']\n",
    "my_output = 'PRICE'\n",
    "initial_weights = np.zeros(3)\n",
    "l1_penalty = 5e6\n",
    "tolerance = 1.0"
   ]
  },
  {
   "cell_type": "markdown",
   "metadata": {},
   "source": [
    "First create a normalized version of the feature matrix, `normalized_simple_feature_matrix`."
   ]
  },
  {
   "cell_type": "code",
   "execution_count": 134,
   "metadata": {
    "collapsed": true
   },
   "outputs": [],
   "source": [
    "# your code\n",
    "# normalize features\n",
    "(simple_feature_matrix, output)=get_numpy_data(df,simple_features,my_output)\n",
    "(normalized_simple_feature_matrix, simple_norms) = normalize_features(simple_feature_matrix)"
   ]
  },
  {
   "cell_type": "markdown",
   "metadata": {},
   "source": [
    "Then, run your implementation of LASSO coordinate descent:"
   ]
  },
  {
   "cell_type": "code",
   "execution_count": 135,
   "metadata": {},
   "outputs": [
    {
     "name": "stdout",
     "output_type": "stream",
     "text": [
      "[ 11755239.08267321   8777351.68323666         0.        ]\n"
     ]
    }
   ],
   "source": [
    "# your code\n",
    "weights = lasso_cyclical_coordinate_descent(normalized_simple_feature_matrix, output,\n",
    "                                            initial_weights, l1_penalty, tolerance)\n",
    "print (weights)"
   ]
  },
  {
   "cell_type": "markdown",
   "metadata": {},
   "source": [
    "***QUIZ QUESTIONS***\n",
    "1. What is the RSS of the learned model on the normalized dataset? (Hint: use the normalized feature matrix when you make predictions.)\n",
    "2. Which features had weight zero at convergence?"
   ]
  },
  {
   "cell_type": "code",
   "execution_count": 136,
   "metadata": {},
   "outputs": [
    {
     "name": "stdout",
     "output_type": "stream",
     "text": [
      "2.87204485517e+14\n"
     ]
    }
   ],
   "source": [
    "# your code\n",
    "prediction =  predict_output(normalized_simple_feature_matrix, weights)\n",
    "RSS = np.dot(output-prediction, output-prediction)\n",
    "print (RSS)"
   ]
  },
  {
   "cell_type": "markdown",
   "metadata": {},
   "source": [
    "# Evaluating LASSO fit with more features"
   ]
  },
  {
   "cell_type": "markdown",
   "metadata": {},
   "source": [
    "Let us split the sales dataset into training and test sets using 80/20"
   ]
  },
  {
   "cell_type": "code",
   "execution_count": 138,
   "metadata": {
    "collapsed": true
   },
   "outputs": [],
   "source": [
    "# your code\n",
    "train_data= df.sample(frac= 0.8, random_state = 1)\n",
    "test_data = df.drop(train_data.index)"
   ]
  },
  {
   "cell_type": "markdown",
   "metadata": {},
   "source": [
    "Let's use all features as used previously.\n",
    "\n",
    "First, create a normalized feature matrix from the TRAINING data with these features.  (Make you store the norms for the normalization, since we'll use them later)"
   ]
  },
  {
   "cell_type": "code",
   "execution_count": 140,
   "metadata": {},
   "outputs": [],
   "source": [
    "# your code\n",
    "my_output = 'price'\n",
    "(feature_matrix, output) = get_numpy_data(train_data, all_features, my_output)\n",
    "normalized_feature_matrix, norms = normalize_features(feature_matrix)"
   ]
  },
  {
   "cell_type": "markdown",
   "metadata": {},
   "source": [
    "First, learn the weights with `l1_penalty=1e6`, on the training data. Initialize weights to all zeros, and set the `tolerance=1`.  Call resulting weights `weights1e6`, you will need them later."
   ]
  },
  {
   "cell_type": "code",
   "execution_count": null,
   "metadata": {},
   "outputs": [],
   "source": [
    "# your code\n",
    "initial_weights = np.zeros(len(all_features) + 1)\n",
    "l1_penalty = 1e6\n",
    "tolerance = 1.0"
   ]
  },
  {
   "cell_type": "code",
   "execution_count": 146,
   "metadata": {},
   "outputs": [
    {
     "name": "stdout",
     "output_type": "stream",
     "text": [
      "[  3427219.69506716  15543958.67698757    901906.58096379         0.\n",
      "         0.          -2254389.36321642         0.                 0.\n",
      "         0.                 0.                 0.           1093835.60511549\n",
      "    711968.73621285]\n"
     ]
    }
   ],
   "source": [
    "weights1e6 = lasso_cyclical_coordinate_descent(normalized_feature_matrix, output,\n",
    "                                               initial_weights, l1_penalty, tolerance)\n",
    "print (weights1e6)"
   ]
  },
  {
   "cell_type": "markdown",
   "metadata": {},
   "source": [
    "What features had non-zero weight in this case?\n",
    "\n",
    "Next, learn the weights with `l1_penalty=5e6`, on the training data. Initialize weights to all zeros, and set the `tolerance=1`.  Call resulting weights `weights5e6`, you will need them later."
   ]
  },
  {
   "cell_type": "code",
   "execution_count": 148,
   "metadata": {},
   "outputs": [
    {
     "name": "stdout",
     "output_type": "stream",
     "text": [
      "[ 12000240.56346168   2339995.9245499          0.                 0.\n",
      "         0.                 0.                 0.                 0.\n",
      "         0.                 0.                 0.                 0.\n",
      "   4350532.75068793]\n"
     ]
    }
   ],
   "source": [
    "# your code\n",
    "initial_weights = np.zeros(len(all_features) + 1)\n",
    "l1_penalty = 5e6\n",
    "tolerance = 1.0\n",
    "weights5e6 = lasso_cyclical_coordinate_descent(normalized_feature_matrix, output,\n",
    "                                               initial_weights, l1_penalty, tolerance)\n",
    "print (weights5e6)"
   ]
  },
  {
   "cell_type": "markdown",
   "metadata": {},
   "source": [
    "What features had non-zero weight in this case?"
   ]
  },
  {
   "cell_type": "markdown",
   "metadata": {},
   "source": [
    "Finally, learn the weights with `l1_penalty=1e4`, on the training data. Initialize weights to all zeros, and set the `tolerance=1e2`.  Call resulting weights `weights1e4`, you will need them later.  (This case will take quite a bit longer to converge than the others above.)"
   ]
  },
  {
   "cell_type": "code",
   "execution_count": 186,
   "metadata": {},
   "outputs": [
    {
     "name": "stdout",
     "output_type": "stream",
     "text": [
      "[  8.38339161e+07   7.21034247e+07   7.42341068e+06  -2.97719236e+06\n",
      "   9.71342669e+06  -2.15449552e+07   1.49616373e+06   0.00000000e+00\n",
      "  -1.65440163e+07  -1.10956675e+08   0.00000000e+00   4.66340738e+06\n",
      "  -4.68195860e+06]\n"
     ]
    }
   ],
   "source": [
    "# your code\n",
    "initial_weights = np.zeros(len(all_features) + 1)\n",
    "l1_penalty = 1e4\n",
    "tolerance = 1e2\n",
    "weights1e4 = lasso_cyclical_coordinate_descent(normalized_feature_matrix, output,\n",
    "                                               initial_weights, l1_penalty, tolerance)\n",
    "print (weights1e4)"
   ]
  },
  {
   "cell_type": "markdown",
   "metadata": {},
   "source": [
    "What features had non-zero weight in this case?"
   ]
  },
  {
   "cell_type": "markdown",
   "metadata": {},
   "source": [
    "## Rescaling learned weights"
   ]
  },
  {
   "cell_type": "markdown",
   "metadata": {},
   "source": [
    "Recall that we normalized our feature matrix, before learning the weights.  To use these weights on a test set, we must normalize the test data in the same way.\n",
    "\n",
    "Alternatively, we can rescale the learned weights to include the normalization, so we never have to worry about normalizing the test data: \n",
    "\n",
    "In this case, we must scale the resulting weights so that we can make predictions with *original* features:\n",
    " 1. Store the norms of the original features to a vector called `norms`:\n",
    "```\n",
    "features, norms = normalize_features(features)\n",
    "```\n",
    " 2. Run Lasso on the normalized features and obtain a `weights` vector\n",
    " 3. Compute the weights for the original features by performing element-wise division, i.e.\n",
    "```\n",
    "weights_normalized = weights / norms\n",
    "```\n",
    "Now, we can apply `weights_normalized` to the test data, without normalizing it!"
   ]
  },
  {
   "cell_type": "markdown",
   "metadata": {},
   "source": [
    "Create a normalized version of each of the weights learned above. (`weights1e6`, `weights5e6`, `weights1e4`)."
   ]
  },
  {
   "cell_type": "code",
   "execution_count": 189,
   "metadata": {},
   "outputs": [],
   "source": [
    "# your code\n",
    "my_output = 'price'\n",
    "(feature_matrix, output) = get_numpy_data(train_data, all_features, my_output)\n",
    "normalized_feature_matrix, norms = normalize_features(feature_matrix)"
   ]
  },
  {
   "cell_type": "code",
   "execution_count": null,
   "metadata": {},
   "outputs": [],
   "source": [
    "normalized_weights1e6 = weights1e6 / norms\n",
    "normalized_weights5e6 = weights5e6 / norms\n",
    "normalized_weights1e4 = weights1e4 / norms"
   ]
  },
  {
   "cell_type": "markdown",
   "metadata": {},
   "source": [
    "To check your results, if you call `normalized_weights1e6` the normalized version of `weights1e6`, should return 11.22951655151892"
   ]
  },
  {
   "cell_type": "code",
   "execution_count": 192,
   "metadata": {},
   "outputs": [
    {
     "data": {
      "text/plain": [
       "11.22951655151892"
      ]
     },
     "execution_count": 192,
     "metadata": {},
     "output_type": "execute_result"
    }
   ],
   "source": [
    "weights1e6_normalized[2]"
   ]
  },
  {
   "cell_type": "markdown",
   "metadata": {},
   "source": [
    "## Evaluating each of the learned models on the test data"
   ]
  },
  {
   "cell_type": "markdown",
   "metadata": {},
   "source": [
    "Let's now evaluate the three models on the test data:"
   ]
  },
  {
   "cell_type": "code",
   "execution_count": 195,
   "metadata": {},
   "outputs": [],
   "source": [
    "# your code\n",
    "(test_feature_matrix, test_output)=get_numpy_data(test_data, all_features,'price')"
   ]
  },
  {
   "cell_type": "markdown",
   "metadata": {},
   "source": [
    "Compute the RSS of each of the three normalized weights on the (unnormalized) `test_feature_matrix`:"
   ]
  },
  {
   "cell_type": "code",
   "execution_count": 197,
   "metadata": {},
   "outputs": [
    {
     "name": "stdout",
     "output_type": "stream",
     "text": [
      "6.97979110651e+13\n",
      "7.78205230466e+13\n",
      "3.05852922918e+14\n"
     ]
    }
   ],
   "source": [
    "# your code\n",
    "prediction = predict_output(test_feature_matrix, normalized_weight1e6)\n",
    "RSS1 = np.dot(test_output-prediction,test_output-prediction)\n",
    "prediction = predict_output(test_feature_matrix, normalized_weight5e6)\n",
    "RSS2 = np.dot(test_output-prediction,test_output-prediction)\n",
    "prediction = predict_output(test_feature_matrix, normalized_weight1e4)\n",
    "RSS3 = np.dot(test_output-prediction,test_output-prediction)\n",
    "PRINT (RSS1,RSS2,RSS3)"
   ]
  },
  {
   "cell_type": "markdown",
   "metadata": {},
   "source": [
    "Which model performed best on the test data? What is your interpretation on the results?"
   ]
  },
  {
   "cell_type": "code",
   "execution_count": null,
   "metadata": {
    "collapsed": true
   },
   "outputs": [],
   "source": [
    "first model performed best on the test data"
   ]
  }
 ],
 "metadata": {
  "kernelspec": {
   "display_name": "Python 3",
   "language": "python",
   "name": "python3"
  },
  "language_info": {
   "codemirror_mode": {
    "name": "ipython",
    "version": 3
   },
   "file_extension": ".py",
   "mimetype": "text/x-python",
   "name": "python",
   "nbconvert_exporter": "python",
   "pygments_lexer": "ipython3",
   "version": "3.7.3"
  }
 },
 "nbformat": 4,
 "nbformat_minor": 1
}
