{
 "cells": [
  {
   "cell_type": "markdown",
   "metadata": {},
   "source": [
    "# Project 4: Ridge Regression"
   ]
  },
  {
   "cell_type": "markdown",
   "metadata": {},
   "source": [
    "In this project, please review L2 regularization first. We will run ridge regression multiple times with different L2 penalties to see which one produces the best fit. We will revisit polynomial regression as a means to see the effect of L2 regularization. In particular, we will:\n",
    "* Use a pre-built implementation of regression to run polynomial regression\n",
    "* Use matplotlib to visualize polynomial regressions\n",
    "* Use a pre-built implementation of regression to run polynomial regression with L2 penalty\n",
    "* Use matplotlib to visualize polynomial regressions under L2 regularization\n",
    "* Choose best L2 penalty using cross-validation.\n",
    "* Assess the final fit using test data.\n",
    "\n",
    "We will continue to use the House data from Redfin. "
   ]
  },
  {
   "cell_type": "code",
   "execution_count": 3,
   "metadata": {},
   "outputs": [],
   "source": [
    "import numpy as np\n",
    "import pandas as pd\n",
    "import matplotlib.pyplot as plt"
   ]
  },
  {
   "cell_type": "code",
   "execution_count": 4,
   "metadata": {},
   "outputs": [],
   "source": [
    "from sklearn.linear_model import Ridge\n",
    "from sklearn.preprocessing import PolynomialFeatures, scale"
   ]
  },
  {
   "cell_type": "markdown",
   "metadata": {},
   "source": [
    "# Revisiting Polynomial Regression"
   ]
  },
  {
   "cell_type": "markdown",
   "metadata": {},
   "source": [
    "Copy and paste the function polynomial_df from Project 3"
   ]
  },
  {
   "cell_type": "code",
   "execution_count": 5,
   "metadata": {},
   "outputs": [],
   "source": [
    "# your code\n",
    "def polynomial_df(feature, degree):\n",
    "    poly_df = pd.DataFrame()\n",
    "    poly_df['power_1'] = feature\n",
    "    if degree > 1:\n",
    "        for power in range (2,degree+1):\n",
    "            name = 'power_' + str(power)\n",
    "            poly_df[name] = feature ** power\n",
    "    return poly_df"
   ]
  },
  {
   "cell_type": "markdown",
   "metadata": {},
   "source": [
    "load the data, sort it as we did in Project 3. "
   ]
  },
  {
   "cell_type": "code",
   "execution_count": 6,
   "metadata": {},
   "outputs": [],
   "source": [
    "# your code\n",
    "data = pd.read_csv('santa_clara_county.csv')\n",
    "data = data[data['PRICE'].notnull()]\n",
    "data = data[data['SQUARE FEET'].notnull()]"
   ]
  },
  {
   "cell_type": "markdown",
   "metadata": {},
   "source": [
    "Let us revisit the 15th-order polynomial model using the 'SQUARE FEET' input. Generate polynomial features up to degree 15 using polynomial_df() and fit a ridge regression model with these features. When fitting the model, use a very small L2 penalty of 1e-5.\n",
    "\n",
    "Note: When we have so many features and so few data points, the solution can become highly numerically unstable, which can sometimes lead to strange unpredictable results. Thus, rather than using no regularization, we will introduce a tiny amount of regularization (alpha=1e-5) to make the solution numerically stable. (Regularization can also help with numerical stability, and here we are seeing a practical example.)\n",
    "With the L2 penalty specified above, fit the model and print out the learned weights.\n",
    "\n",
    "Note: if you want to compare results with that in Project 3, you have to scale feature \"SQAURE FEET\" then you will see the results converge when you set L2 penalty to a very small value close to zero."
   ]
  },
  {
   "cell_type": "code",
   "execution_count": 7,
   "metadata": {},
   "outputs": [],
   "source": [
    "# your code\n",
    "L2_penalty = 1e-5\n",
    "data['sqrt_scale']=scale(data['SQUARE FEET'])\n",
    "sales = data.sort_values(by =['sqrt_scale','PRICE'])"
   ]
  },
  {
   "cell_type": "code",
   "execution_count": 8,
   "metadata": {},
   "outputs": [],
   "source": [
    "poly15_data = polynomial_df(sales['sqrt_scale'], 15)\n",
    "my_features = list(poly15_data.columns.values)\n",
    "poly15_data['price'] = sales['PRICE']\n",
    "model = Ridge(alpha = L2_penalty)\n",
    "poly15_model = model.fit(poly15_data[my_features],poly15_data['price'])"
   ]
  },
  {
   "cell_type": "code",
   "execution_count": 9,
   "metadata": {},
   "outputs": [],
   "source": [
    "def coef(coefficients,intercept,input_features):\n",
    "    n = len(input_features)\n",
    "    for i in range(0,n):\n",
    "        print ('The coefficient for ' + input_features[i] + ' is ' + str(coefficients[i]))\n",
    "    print ('The intercept is ' + str(intercept))"
   ]
  },
  {
   "cell_type": "code",
   "execution_count": 10,
   "metadata": {},
   "outputs": [
    {
     "name": "stdout",
     "output_type": "stream",
     "text": [
      "The coefficient for power_1 is -95771.76107518357\n",
      "The coefficient for power_2 is 2915765.733361793\n",
      "The coefficient for power_3 is 5796119.923474853\n",
      "The coefficient for power_4 is -10948592.055560322\n",
      "The coefficient for power_5 is -10580610.878975272\n",
      "The coefficient for power_6 is 17186679.311127685\n",
      "The coefficient for power_7 is 5144812.278582467\n",
      "The coefficient for power_8 is -12367861.11616589\n",
      "The coefficient for power_9 is 1308595.0140604437\n",
      "The coefficient for power_10 is 3650828.6899916786\n",
      "The coefficient for power_11 is -1395524.2259642552\n",
      "The coefficient for power_12 is -200290.2791917012\n",
      "The coefficient for power_13 is 219020.41419789687\n",
      "The coefficient for power_14 is -46841.63808185968\n",
      "The coefficient for power_15 is 3332.5973677110824\n",
      "The intercept is 1187333.7605398209\n"
     ]
    }
   ],
   "source": [
    "coef(poly15_model.coef_,poly15_model.intercept_,my_features)"
   ]
  },
  {
   "cell_type": "markdown",
   "metadata": {},
   "source": [
    "# Observe overfitting"
   ]
  },
  {
   "cell_type": "markdown",
   "metadata": {},
   "source": [
    "Recall from Project 3 that the polynomial fit of degree 15 changed wildly whenever the data changed. In particular, when we split the sales data into four subsets and fit the model of degree 15, the result came out to be very different for each subset. The model had a high variance. We will see in a moment that ridge regression reduces such variance. But first, we must reproduce the experiment we did in Project 3 with very small L2 penalty.\n",
    "\n",
    "First, split the data into split the sales data into four subsets of roughly equal size and call them set_1, set_2, set_3, and set_4."
   ]
  },
  {
   "cell_type": "code",
   "execution_count": 11,
   "metadata": {},
   "outputs": [],
   "source": [
    "# your code\n",
    "from sklearn.model_selection import train_test_split\n",
    "subset_1,subset_2= train_test_split(sales,test_size = 0.5,random_state = 0)\n",
    "set_1,set_2 = train_test_split(subset_1,test_size = 0.5,random_state = 0)\n",
    "set_3,set_4= train_test_split(subset_2,test_size = 0.5,random_state = 0)"
   ]
  },
  {
   "cell_type": "markdown",
   "metadata": {},
   "source": [
    "Next, fit a 15th degree polynomial on set_1, set_2, set_3, and set_4, using scaled 'SQUARE FEET' to predict prices. Print the weights and make a plot of the resulting model.\n",
    "Hint: use the same L2 penalty as before (i.e. 1e-5)"
   ]
  },
  {
   "cell_type": "code",
   "execution_count": 12,
   "metadata": {},
   "outputs": [],
   "source": [
    "def poly_model(set_data,l2_penalty):\n",
    "    set_data_sort = set_data.sort_values(by =['sqrt_scale','PRICE'])\n",
    "    poly15_data = polynomial_df(set_data_sort['sqrt_scale'], 15)\n",
    "    my_features = list(poly15_data.columns.values)\n",
    "    poly15_data['price'] = set_data_sort['PRICE']\n",
    "    model = Ridge(alpha = l2_penalty)\n",
    "    poly15_model = model.fit(poly15_data[my_features],poly15_data['price'])\n",
    "    return poly15_data,poly15_model\n",
    "\n",
    "def print_coef(set_data,l2_penalty):\n",
    "    poly15_data, poly15_model = poly_model(set_data,l2_penalty)\n",
    "    my_features = list(poly15_data.columns.values)\n",
    "    return coef(poly15_model.coef_,poly15_model.intercept_,my_features[0:14])\n",
    "\n",
    "def plot_graph(set_data,l2_penalty):\n",
    "    set_data_sort = set_data.sort_values(by =['sqrt_scale','PRICE'])\n",
    "    poly15_data = polynomial_df(set_data_sort['sqrt_scale'], 15)\n",
    "    my_features = list(poly15_data.columns.values)\n",
    "    poly15_data['price'] = set_data_sort['PRICE']\n",
    "    model = Ridge(alpha = l2_penalty)\n",
    "    poly15_model = model.fit(poly15_data[my_features],poly15_data['price'])\n",
    "    return plt.plot(poly15_data['power_1'],poly15_data['price'],'.',\n",
    "                    poly15_data['power_1'],model.predict(poly15_data[my_features]),'-')"
   ]
  },
  {
   "cell_type": "code",
   "execution_count": 13,
   "metadata": {},
   "outputs": [
    {
     "name": "stdout",
     "output_type": "stream",
     "text": [
      "The coefficient for power_1 is 5482889.17450781\n",
      "The coefficient for power_2 is 9014439.705480108\n",
      "The coefficient for power_3 is -30574791.430165157\n",
      "The coefficient for power_4 is -55931181.22314486\n",
      "The coefficient for power_5 is 45790749.015958525\n",
      "The coefficient for power_6 is 99897433.85551411\n",
      "The coefficient for power_7 is -531981.1899139524\n",
      "The coefficient for power_8 is -65878983.66628187\n",
      "The coefficient for power_9 is -54980684.74382317\n",
      "The coefficient for power_10 is 4051709.384612264\n",
      "The coefficient for power_11 is 50239183.90209048\n",
      "The coefficient for power_12 is 11330811.877042007\n",
      "The coefficient for power_13 is -17900507.31845556\n",
      "The coefficient for power_14 is -3043741.1754801683\n",
      "The intercept is 1007197.2448316786\n"
     ]
    },
    {
     "name": "stderr",
     "output_type": "stream",
     "text": [
      "/anaconda3/lib/python3.7/site-packages/sklearn/linear_model/ridge.py:125: LinAlgWarning: Ill-conditioned matrix (rcond=2.69529e-18): result may not be accurate.\n",
      "  overwrite_a=True).T\n",
      "/anaconda3/lib/python3.7/site-packages/sklearn/linear_model/ridge.py:125: LinAlgWarning: Ill-conditioned matrix (rcond=2.69529e-18): result may not be accurate.\n",
      "  overwrite_a=True).T\n"
     ]
    },
    {
     "data": {
      "text/plain": [
       "[<matplotlib.lines.Line2D at 0x1a26373c88>,\n",
       " <matplotlib.lines.Line2D at 0x1a26373e10>]"
      ]
     },
     "execution_count": 13,
     "metadata": {},
     "output_type": "execute_result"
    },
    {
     "data": {
      "image/png": "[encoded data removed]",
      "text/plain": [
       "<Figure size 432x288 with 1 Axes>"
      ]
     },
     "metadata": {
      "needs_background": "light"
     },
     "output_type": "display_data"
    }
   ],
   "source": [
    "print_coef(set_1,1e-5)\n",
    "plot_graph(set_1,1e-5)"
   ]
  },
  {
   "cell_type": "code",
   "execution_count": 14,
   "metadata": {},
   "outputs": [
    {
     "name": "stdout",
     "output_type": "stream",
     "text": [
      "The coefficient for power_1 is -474233.91117015446\n",
      "The coefficient for power_2 is 229420.505282755\n",
      "The coefficient for power_3 is 13376160.887003366\n",
      "The coefficient for power_4 is -19601395.832820002\n",
      "The coefficient for power_5 is -51237155.41106728\n",
      "The coefficient for power_6 is 77052746.33769615\n",
      "The coefficient for power_7 is 69842231.2806842\n",
      "The coefficient for power_8 is -113495534.40250447\n",
      "The coefficient for power_9 is -21823696.17406854\n",
      "The coefficient for power_10 is 73890238.01484086\n",
      "The coefficient for power_11 is -17763632.71726369\n",
      "The coefficient for power_12 is -14861995.632096408\n",
      "The coefficient for power_13 is 9533016.147446994\n",
      "The coefficient for power_14 is -2029546.4248378328\n",
      "The intercept is 1275768.8699048914\n"
     ]
    },
    {
     "data": {
      "text/plain": [
       "[<matplotlib.lines.Line2D at 0x1a26435048>,\n",
       " <matplotlib.lines.Line2D at 0x1a263f0518>]"
      ]
     },
     "execution_count": 14,
     "metadata": {},
     "output_type": "execute_result"
    },
    {
     "data": {
      "image/png": "[encoded data removed]",
      "text/plain": [
       "<Figure size 432x288 with 1 Axes>"
      ]
     },
     "metadata": {
      "needs_background": "light"
     },
     "output_type": "display_data"
    }
   ],
   "source": [
    "# your code for set_2\n",
    "print_coef(set_2,1e-5)\n",
    "plot_graph(set_2,1e-5)"
   ]
  },
  {
   "cell_type": "code",
   "execution_count": 15,
   "metadata": {},
   "outputs": [
    {
     "name": "stdout",
     "output_type": "stream",
     "text": [
      "The coefficient for power_1 is -1229266.8713371311\n",
      "The coefficient for power_2 is 11006683.028598897\n",
      "The coefficient for power_3 is 15591577.409232602\n",
      "The coefficient for power_4 is -16304646.26920233\n",
      "The coefficient for power_5 is -31157152.229132343\n",
      "The coefficient for power_6 is -58839957.6675778\n",
      "The coefficient for power_7 is 48736430.21875664\n",
      "The coefficient for power_8 is 146794768.55406278\n",
      "The coefficient for power_9 is -92170327.45103996\n",
      "The coefficient for power_10 is -99484044.79577537\n",
      "The coefficient for power_11 is 85801610.4093138\n",
      "The coefficient for power_12 is 8017541.518220152\n",
      "The coefficient for power_13 is -25441578.649127617\n",
      "The coefficient for power_14 is 8526159.013944663\n",
      "The intercept is 1137485.6359836743\n"
     ]
    },
    {
     "name": "stderr",
     "output_type": "stream",
     "text": [
      "/anaconda3/lib/python3.7/site-packages/sklearn/linear_model/ridge.py:125: LinAlgWarning: Ill-conditioned matrix (rcond=1.24541e-19): result may not be accurate.\n",
      "  overwrite_a=True).T\n",
      "/anaconda3/lib/python3.7/site-packages/sklearn/linear_model/ridge.py:125: LinAlgWarning: Ill-conditioned matrix (rcond=1.24541e-19): result may not be accurate.\n",
      "  overwrite_a=True).T\n"
     ]
    },
    {
     "data": {
      "text/plain": [
       "[<matplotlib.lines.Line2D at 0x1a265272b0>,\n",
       " <matplotlib.lines.Line2D at 0x1a263bd0f0>]"
      ]
     },
     "execution_count": 15,
     "metadata": {},
     "output_type": "execute_result"
    },
    {
     "data": {
      "image/png": "[encoded data removed]",
      "text/plain": [
       "<Figure size 432x288 with 1 Axes>"
      ]
     },
     "metadata": {
      "needs_background": "light"
     },
     "output_type": "display_data"
    }
   ],
   "source": [
    "# your code for set_3\n",
    "print_coef(set_3,1e-5)\n",
    "plot_graph(set_3,1e-5)"
   ]
  },
  {
   "cell_type": "code",
   "execution_count": 16,
   "metadata": {},
   "outputs": [
    {
     "name": "stdout",
     "output_type": "stream",
     "text": [
      "The coefficient for power_1 is -1648108.178818252\n",
      "The coefficient for power_2 is -4209259.611382267\n",
      "The coefficient for power_3 is 5529196.041519811\n",
      "The coefficient for power_4 is 21941357.08753184\n",
      "The coefficient for power_5 is 11206475.523461496\n",
      "The coefficient for power_6 is -26765688.348782033\n",
      "The coefficient for power_7 is -51503125.04599912\n",
      "The coefficient for power_8 is 2760487.3202364813\n",
      "The coefficient for power_9 is 77604345.2366201\n",
      "The coefficient for power_10 is 117741.56619840757\n",
      "The coefficient for power_11 is -55287779.693882786\n",
      "The coefficient for power_12 is 13192559.139140466\n",
      "The coefficient for power_13 is 13723866.854281733\n",
      "The coefficient for power_14 is -7203135.764974989\n",
      "The intercept is 1248334.079105543\n"
     ]
    },
    {
     "name": "stderr",
     "output_type": "stream",
     "text": [
      "/anaconda3/lib/python3.7/site-packages/sklearn/linear_model/ridge.py:125: LinAlgWarning: Ill-conditioned matrix (rcond=4.68436e-20): result may not be accurate.\n",
      "  overwrite_a=True).T\n",
      "/anaconda3/lib/python3.7/site-packages/sklearn/linear_model/ridge.py:125: LinAlgWarning: Ill-conditioned matrix (rcond=4.68436e-20): result may not be accurate.\n",
      "  overwrite_a=True).T\n"
     ]
    },
    {
     "data": {
      "text/plain": [
       "[<matplotlib.lines.Line2D at 0x1a26590710>,\n",
       " <matplotlib.lines.Line2D at 0x1a264446a0>]"
      ]
     },
     "execution_count": 16,
     "metadata": {},
     "output_type": "execute_result"
    },
    {
     "data": {
      "image/png": "[encoded data removed]",
      "text/plain": [
       "<Figure size 432x288 with 1 Axes>"
      ]
     },
     "metadata": {
      "needs_background": "light"
     },
     "output_type": "display_data"
    }
   ],
   "source": [
    "# your code for set_4\n",
    "print_coef(set_4,1e-5)\n",
    "plot_graph(set_4,1e-5)"
   ]
  },
  {
   "cell_type": "markdown",
   "metadata": {},
   "source": [
    "The four curves should differ from one another a lot, as should the coefficients you learned.\n",
    "\n",
    "There is obvious overfitting here--as the model does not generalize for each sets of data. You can expect poor performance from the test data set too. We have a high variance problem here with our model.\n"
   ]
  },
  {
   "cell_type": "markdown",
   "metadata": {},
   "source": [
    "# Ridge regression comes to rescue"
   ]
  },
  {
   "cell_type": "markdown",
   "metadata": {},
   "source": [
    "Generally, whenever we see weights change so much in response to change in data, we believe the variance of our estimate to be large. Ridge regression aims to address this issue by penalizing \"large\" weights.\n",
    "With the argument l2_penalty=1e5, fit a 15th-order polynomial model on set_1, set_2, set_3, and set_4. Other than the change in the l2_penalty parameter, the code should be the same as the experiment above. "
   ]
  },
  {
   "cell_type": "code",
   "execution_count": 17,
   "metadata": {},
   "outputs": [
    {
     "name": "stdout",
     "output_type": "stream",
     "text": [
      "The coefficient for power_1 is 65.63907365772938\n",
      "The coefficient for power_2 is 3.486180974723092\n",
      "The coefficient for power_3 is 94.59612929646173\n",
      "The coefficient for power_4 is 67.47135067990142\n",
      "The coefficient for power_5 is 198.67863036693478\n",
      "The coefficient for power_6 is 206.20276296316442\n",
      "The coefficient for power_7 is 440.5187773511912\n",
      "The coefficient for power_8 is 511.92082226136483\n",
      "The coefficient for power_9 is 969.0543941069933\n",
      "The coefficient for power_10 is 1145.733908163449\n",
      "The coefficient for power_11 is 2001.7127132824685\n",
      "The coefficient for power_12 is 2157.280115289358\n",
      "The coefficient for power_13 is 3226.024083315447\n",
      "The coefficient for power_14 is 1603.2806717116894\n",
      "The intercept is 825048.6782482053\n"
     ]
    },
    {
     "data": {
      "text/plain": [
       "[<matplotlib.lines.Line2D at 0x1a2666cfd0>,\n",
       " <matplotlib.lines.Line2D at 0x1a265514a8>]"
      ]
     },
     "execution_count": 17,
     "metadata": {},
     "output_type": "execute_result"
    },
    {
     "data": {
      "image/png": "[encoded data removed]",
      "text/plain": [
       "<Figure size 432x288 with 1 Axes>"
      ]
     },
     "metadata": {
      "needs_background": "light"
     },
     "output_type": "display_data"
    }
   ],
   "source": [
    "#Note: the dataset here may not be optimized. But please focus on the concept. \n",
    "print_coef(set_1,1e5)\n",
    "plot_graph(set_1,1e5)"
   ]
  },
  {
   "cell_type": "code",
   "execution_count": 18,
   "metadata": {},
   "outputs": [
    {
     "name": "stdout",
     "output_type": "stream",
     "text": [
      "The coefficient for power_1 is 159.01426196358287\n",
      "The coefficient for power_2 is 50.530131487016085\n",
      "The coefficient for power_3 is 149.4516645949022\n",
      "The coefficient for power_4 is 78.23488300339649\n",
      "The coefficient for power_5 is 177.68941650353904\n",
      "The coefficient for power_6 is 127.02167138607783\n",
      "The coefficient for power_7 is 255.04287267397686\n",
      "The coefficient for power_8 is 228.74743419745752\n",
      "The coefficient for power_9 is 402.58971932412095\n",
      "The coefficient for power_10 is 381.470678681564\n",
      "The coefficient for power_11 is 543.5689096150526\n",
      "The coefficient for power_12 is 360.5363047676364\n",
      "The coefficient for power_13 is 253.28592210553265\n",
      "The coefficient for power_14 is -272.9343792875044\n",
      "The intercept is 1300284.9895872034\n"
     ]
    },
    {
     "data": {
      "text/plain": [
       "[<matplotlib.lines.Line2D at 0x1a267cba20>,\n",
       " <matplotlib.lines.Line2D at 0x1a2662dda0>]"
      ]
     },
     "execution_count": 18,
     "metadata": {},
     "output_type": "execute_result"
    },
    {
     "data": {
      "image/png": "[encoded data removed]",
      "text/plain": [
       "<Figure size 432x288 with 1 Axes>"
      ]
     },
     "metadata": {
      "needs_background": "light"
     },
     "output_type": "display_data"
    }
   ],
   "source": [
    "# your code for set_2 with Ridge Regression\n",
    "print_coef(set_2,1e5)\n",
    "plot_graph(set_2,1e5)"
   ]
  },
  {
   "cell_type": "code",
   "execution_count": 19,
   "metadata": {},
   "outputs": [
    {
     "name": "stdout",
     "output_type": "stream",
     "text": [
      "The coefficient for power_1 is 143.5933068287386\n",
      "The coefficient for power_2 is 47.674993370358415\n",
      "The coefficient for power_3 is 231.61562104219303\n",
      "The coefficient for power_4 is 182.21167597563144\n",
      "The coefficient for power_5 is 455.1764773993853\n",
      "The coefficient for power_6 is 473.1410857830837\n",
      "The coefficient for power_7 is 863.3075006317387\n",
      "The coefficient for power_8 is 904.6265876057336\n",
      "The coefficient for power_9 is 1274.2084310124908\n",
      "The coefficient for power_10 is 977.7761426295868\n",
      "The coefficient for power_11 is 767.9417249512254\n",
      "The coefficient for power_12 is -397.3811394804038\n",
      "The coefficient for power_13 is -639.4641696762377\n",
      "The coefficient for power_14 is 256.03644886706513\n",
      "The intercept is 1584296.7233314593\n"
     ]
    },
    {
     "data": {
      "text/plain": [
       "[<matplotlib.lines.Line2D at 0x1a26834828>,\n",
       " <matplotlib.lines.Line2D at 0x1a26541160>]"
      ]
     },
     "execution_count": 19,
     "metadata": {},
     "output_type": "execute_result"
    },
    {
     "data": {
      "image/png": "[encoded data removed]",
      "text/plain": [
       "<Figure size 432x288 with 1 Axes>"
      ]
     },
     "metadata": {
      "needs_background": "light"
     },
     "output_type": "display_data"
    }
   ],
   "source": [
    "# your code for set_3 with Ridge Regression\n",
    "print_coef(set_3,1e5)\n",
    "plot_graph(set_3,1e5)"
   ]
  },
  {
   "cell_type": "code",
   "execution_count": 20,
   "metadata": {},
   "outputs": [
    {
     "name": "stdout",
     "output_type": "stream",
     "text": [
      "The coefficient for power_1 is 64.62890225827837\n",
      "The coefficient for power_2 is 30.197672000339683\n",
      "The coefficient for power_3 is 108.88219260381663\n",
      "The coefficient for power_4 is 110.76040347237371\n",
      "The coefficient for power_5 is 248.79683186340077\n",
      "The coefficient for power_6 is 357.97103929797004\n",
      "The coefficient for power_7 is 676.2795159941049\n",
      "The coefficient for power_8 is 1057.012048951792\n",
      "The coefficient for power_9 is 1767.577585583009\n",
      "The coefficient for power_10 is 2560.2137303345967\n",
      "The coefficient for power_11 is 3451.131184056731\n",
      "The coefficient for power_12 is 3418.6372194894875\n",
      "The coefficient for power_13 is 1386.4332061134733\n",
      "The coefficient for power_14 is -3409.1134869789676\n",
      "The intercept is 1225798.8478521872\n"
     ]
    },
    {
     "data": {
      "text/plain": [
       "[<matplotlib.lines.Line2D at 0x1a2690ed30>,\n",
       " <matplotlib.lines.Line2D at 0x1a267d9cf8>]"
      ]
     },
     "execution_count": 20,
     "metadata": {},
     "output_type": "execute_result"
    },
    {
     "data": {
      "image/png": "[encoded data removed]",
      "text/plain": [
       "<Figure size 432x288 with 1 Axes>"
      ]
     },
     "metadata": {
      "needs_background": "light"
     },
     "output_type": "display_data"
    }
   ],
   "source": [
    "# your code for set_4 with Ridge Regression\n",
    "print_coef(set_4,1e5)\n",
    "plot_graph(set_4,1e5)"
   ]
  },
  {
   "cell_type": "markdown",
   "metadata": {},
   "source": [
    "# Selecting an L2 penalty via cross-validation"
   ]
  },
  {
   "cell_type": "markdown",
   "metadata": {},
   "source": [
    "Just like the polynomial degree, the L2 penalty is a \"magic\" parameter we need to select. We could use the validation set approach as we did in the last project, but that approach has a major disadvantage: it leaves fewer observations available for training. Cross-validation seeks to overcome this issue by using all of the training set in a smart way.\n",
    "\n",
    "We will implement a kind of cross-validation called k-fold cross-validation. The method gets its name because it involves dividing the training set into k segments of roughtly equal size. Similar to the validation set method, we measure the validation error with one of the segments designated as the validation set. The major difference is that we repeat the process k times as follows:\n",
    "Set aside segment 0 as the validation set, and fit a model on rest of data, and evalutate it on this validation set\n",
    "Set aside segment 1 as the validation set, and fit a model on rest of data, and evalutate it on this validation set\n",
    "...\n",
    "Set aside segment k-1 as the validation set, and fit a model on rest of data, and evalutate it on this validation set\n",
    "\n",
    "After this process, we compute the average of the k validation errors, and use it as an estimate of the generalization error. Notice that all observations are used for both training and validation, as we iterate over segments of data.\n",
    "To estimate the generalization error well, it is crucial to shuffle the training data before dividing them into segments (use sklearn.utils.shuffle). We reserve 10% of the data as the test set and shuffle the remainder."
   ]
  },
  {
   "cell_type": "code",
   "execution_count": 21,
   "metadata": {},
   "outputs": [],
   "source": [
    "train_valid = data.sample(frac=0.9,random_state=1)\n",
    "test_data = data.drop(train_valid.index)\n",
    "from sklearn.utils import shuffle\n",
    "train_valid_shuffled = shuffle(train_valid)"
   ]
  },
  {
   "cell_type": "markdown",
   "metadata": {},
   "source": [
    "Once the data is shuffled, we divide it into equal segments. Each segment should receive `n/k` elements, where `n` is the number of observations in the training set and `k` is the number of segments. Since the segment 0 starts at index 0 and contains `n/k` elements, it ends at index `(n/k)-1`. The segment 1 starts where the segment 0 left off, at index `(n/k)`. With `n/k` elements, the segment 1 ends at index `(n*2/k)-1`. Continuing in this fashion, we deduce that the segment `i` starts at index `(n*i/k)` and ends at `(n*(i+1)/k)-1`.\n",
    "\n",
    "Now we are ready to implement k-fold cross-validation. Write a function that computes k validation errors by designating each of the k segments as the validation set. It accepts as parameters (i) `k`, (ii) `l2_penalty`, (iii) dataframe, (iv) name of output column (e.g. `price`) and (v) list of feature names. The function returns the average validation error using k segments as validation sets.\n",
    "\n",
    "* For each i in [0, 1, ..., k-1]:\n",
    "  * Compute starting and ending indices of segment i and call 'start' and 'end'\n",
    "  * Form validation set by taking a slice (start:end+1) from the data.\n",
    "  * Form training set by appending slice (end+1:n) to the end of slice (0:start).\n",
    "  * Train a linear model using training set just formed, with a given l2_penalty\n",
    "  * Compute validation error using validation set just formed"
   ]
  },
  {
   "cell_type": "code",
   "execution_count": 26,
   "metadata": {},
   "outputs": [],
   "source": [
    "# your code\n",
    "def compute_validation_errors(k,l2_penalty,data,output_name,features_list):\n",
    "    n = len(data)\n",
    "    validation_RSS_sum = 0\n",
    "    for i in range(0,k):\n",
    "        start = int((n*i/k))\n",
    "        end = int((n*(i+1)/k)-1)\n",
    "        \n",
    "        validation = data[start:end]\n",
    "        traning_1 = data[0:start]\n",
    "        traning_2 = data[end:n]\n",
    "        traning = traning_1.append(traning_2)\n",
    "        \n",
    "        model = Ridge(alpha = l2_penalty)\n",
    "        model_train_valid = model.fit(data[features_list],data[output_name])\n",
    "        \n",
    "        validation_RSS =((validation[output_name]-model_train_valid.predict(validation[features_list]))**2).sum()\n",
    "        validation_RSS_sum = validation_RSS_sum + validation_RSS\n",
    "    return validation_RSS_sum / k"
   ]
  },
  {
   "cell_type": "markdown",
   "metadata": {},
   "source": [
    "Once we have a function to compute the average validation error for a model, we can write a loop to find the model that minimizes the average validation error. Write a loop that does the following:\n",
    "* We will again be aiming to fit a 15th-order polynomial model using the `SQUARE FEET` input\n",
    "* For `l2_penalty` in [10^1, 10^1.5, 10^2, 10^2.5, ..., 10^7] (to get this in Python, you can use this Numpy function: `np.logspace(1, 7, num=13)`.)\n",
    "    * Run 10-fold cross-validation with `l2_penalty`\n",
    "* Report which L2 penalty produced the lowest average validation error.\n",
    "\n",
    "Note: since the degree of the polynomial is now fixed to 15, to make things faster, you should generate polynomial features in advance and re-use them throughout the loop. Make sure to use `train_valid_shuffled` when generating polynomial features!"
   ]
  },
  {
   "cell_type": "code",
   "execution_count": 30,
   "metadata": {},
   "outputs": [
    {
     "name": "stderr",
     "output_type": "stream",
     "text": [
      "/anaconda3/lib/python3.7/site-packages/ipykernel_launcher.py:2: SettingWithCopyWarning: \n",
      "A value is trying to be set on a copy of a slice from a DataFrame.\n",
      "Try using .loc[row_indexer,col_indexer] = value instead\n",
      "\n",
      "See the caveats in the documentation: http://pandas.pydata.org/pandas-docs/stable/indexing.html#indexing-view-versus-copy\n",
      "  \n"
     ]
    }
   ],
   "source": [
    "# your code\n",
    "train_valid_shuffled['sqft_scale'] = scale(train_valid_shuffled['SQUARE FEET'])\n",
    "poly15_data = polynomial_df(train_valid_shuffled['sqft_scale'],15)\n",
    "my_features = list(poly15_data.columns.values)\n",
    "poly15_data['price'] = train_valid_shuffled['PRICE']"
   ]
  },
  {
   "cell_type": "code",
   "execution_count": 38,
   "metadata": {},
   "outputs": [
    {
     "name": "stderr",
     "output_type": "stream",
     "text": [
      "/anaconda3/lib/python3.7/site-packages/sklearn/linear_model/ridge.py:125: LinAlgWarning: Ill-conditioned matrix (rcond=1.69917e-20): result may not be accurate.\n",
      "  overwrite_a=True).T\n",
      "/anaconda3/lib/python3.7/site-packages/sklearn/linear_model/ridge.py:125: LinAlgWarning: Ill-conditioned matrix (rcond=1.69917e-20): result may not be accurate.\n",
      "  overwrite_a=True).T\n",
      "/anaconda3/lib/python3.7/site-packages/sklearn/linear_model/ridge.py:125: LinAlgWarning: Ill-conditioned matrix (rcond=1.69917e-20): result may not be accurate.\n",
      "  overwrite_a=True).T\n",
      "/anaconda3/lib/python3.7/site-packages/sklearn/linear_model/ridge.py:125: LinAlgWarning: Ill-conditioned matrix (rcond=1.69917e-20): result may not be accurate.\n",
      "  overwrite_a=True).T\n",
      "/anaconda3/lib/python3.7/site-packages/sklearn/linear_model/ridge.py:125: LinAlgWarning: Ill-conditioned matrix (rcond=1.69917e-20): result may not be accurate.\n",
      "  overwrite_a=True).T\n",
      "/anaconda3/lib/python3.7/site-packages/sklearn/linear_model/ridge.py:125: LinAlgWarning: Ill-conditioned matrix (rcond=1.69917e-20): result may not be accurate.\n",
      "  overwrite_a=True).T\n",
      "/anaconda3/lib/python3.7/site-packages/sklearn/linear_model/ridge.py:125: LinAlgWarning: Ill-conditioned matrix (rcond=1.69917e-20): result may not be accurate.\n",
      "  overwrite_a=True).T\n",
      "/anaconda3/lib/python3.7/site-packages/sklearn/linear_model/ridge.py:125: LinAlgWarning: Ill-conditioned matrix (rcond=1.69917e-20): result may not be accurate.\n",
      "  overwrite_a=True).T\n",
      "/anaconda3/lib/python3.7/site-packages/sklearn/linear_model/ridge.py:125: LinAlgWarning: Ill-conditioned matrix (rcond=1.69917e-20): result may not be accurate.\n",
      "  overwrite_a=True).T\n",
      "/anaconda3/lib/python3.7/site-packages/sklearn/linear_model/ridge.py:125: LinAlgWarning: Ill-conditioned matrix (rcond=1.69917e-20): result may not be accurate.\n",
      "  overwrite_a=True).T\n",
      "/anaconda3/lib/python3.7/site-packages/sklearn/linear_model/ridge.py:125: LinAlgWarning: Ill-conditioned matrix (rcond=5.33407e-20): result may not be accurate.\n",
      "  overwrite_a=True).T\n",
      "/anaconda3/lib/python3.7/site-packages/sklearn/linear_model/ridge.py:125: LinAlgWarning: Ill-conditioned matrix (rcond=5.33407e-20): result may not be accurate.\n",
      "  overwrite_a=True).T\n",
      "/anaconda3/lib/python3.7/site-packages/sklearn/linear_model/ridge.py:125: LinAlgWarning: Ill-conditioned matrix (rcond=5.33407e-20): result may not be accurate.\n",
      "  overwrite_a=True).T\n",
      "/anaconda3/lib/python3.7/site-packages/sklearn/linear_model/ridge.py:125: LinAlgWarning: Ill-conditioned matrix (rcond=5.33407e-20): result may not be accurate.\n",
      "  overwrite_a=True).T\n",
      "/anaconda3/lib/python3.7/site-packages/sklearn/linear_model/ridge.py:125: LinAlgWarning: Ill-conditioned matrix (rcond=5.33407e-20): result may not be accurate.\n",
      "  overwrite_a=True).T\n",
      "/anaconda3/lib/python3.7/site-packages/sklearn/linear_model/ridge.py:125: LinAlgWarning: Ill-conditioned matrix (rcond=5.33407e-20): result may not be accurate.\n",
      "  overwrite_a=True).T\n",
      "/anaconda3/lib/python3.7/site-packages/sklearn/linear_model/ridge.py:125: LinAlgWarning: Ill-conditioned matrix (rcond=5.33407e-20): result may not be accurate.\n",
      "  overwrite_a=True).T\n",
      "/anaconda3/lib/python3.7/site-packages/sklearn/linear_model/ridge.py:125: LinAlgWarning: Ill-conditioned matrix (rcond=5.33407e-20): result may not be accurate.\n",
      "  overwrite_a=True).T\n",
      "/anaconda3/lib/python3.7/site-packages/sklearn/linear_model/ridge.py:125: LinAlgWarning: Ill-conditioned matrix (rcond=5.33407e-20): result may not be accurate.\n",
      "  overwrite_a=True).T\n",
      "/anaconda3/lib/python3.7/site-packages/sklearn/linear_model/ridge.py:125: LinAlgWarning: Ill-conditioned matrix (rcond=5.33407e-20): result may not be accurate.\n",
      "  overwrite_a=True).T\n",
      "/anaconda3/lib/python3.7/site-packages/sklearn/linear_model/ridge.py:125: LinAlgWarning: Ill-conditioned matrix (rcond=1.69524e-19): result may not be accurate.\n",
      "  overwrite_a=True).T\n",
      "/anaconda3/lib/python3.7/site-packages/sklearn/linear_model/ridge.py:125: LinAlgWarning: Ill-conditioned matrix (rcond=1.69524e-19): result may not be accurate.\n",
      "  overwrite_a=True).T\n",
      "/anaconda3/lib/python3.7/site-packages/sklearn/linear_model/ridge.py:125: LinAlgWarning: Ill-conditioned matrix (rcond=1.69524e-19): result may not be accurate.\n",
      "  overwrite_a=True).T\n",
      "/anaconda3/lib/python3.7/site-packages/sklearn/linear_model/ridge.py:125: LinAlgWarning: Ill-conditioned matrix (rcond=1.69524e-19): result may not be accurate.\n",
      "  overwrite_a=True).T\n",
      "/anaconda3/lib/python3.7/site-packages/sklearn/linear_model/ridge.py:125: LinAlgWarning: Ill-conditioned matrix (rcond=1.69524e-19): result may not be accurate.\n",
      "  overwrite_a=True).T\n",
      "/anaconda3/lib/python3.7/site-packages/sklearn/linear_model/ridge.py:125: LinAlgWarning: Ill-conditioned matrix (rcond=1.69524e-19): result may not be accurate.\n",
      "  overwrite_a=True).T\n",
      "/anaconda3/lib/python3.7/site-packages/sklearn/linear_model/ridge.py:125: LinAlgWarning: Ill-conditioned matrix (rcond=1.69524e-19): result may not be accurate.\n",
      "  overwrite_a=True).T\n",
      "/anaconda3/lib/python3.7/site-packages/sklearn/linear_model/ridge.py:125: LinAlgWarning: Ill-conditioned matrix (rcond=1.69524e-19): result may not be accurate.\n",
      "  overwrite_a=True).T\n",
      "/anaconda3/lib/python3.7/site-packages/sklearn/linear_model/ridge.py:125: LinAlgWarning: Ill-conditioned matrix (rcond=1.69524e-19): result may not be accurate.\n",
      "  overwrite_a=True).T\n",
      "/anaconda3/lib/python3.7/site-packages/sklearn/linear_model/ridge.py:125: LinAlgWarning: Ill-conditioned matrix (rcond=1.69524e-19): result may not be accurate.\n",
      "  overwrite_a=True).T\n",
      "/anaconda3/lib/python3.7/site-packages/sklearn/linear_model/ridge.py:125: LinAlgWarning: Ill-conditioned matrix (rcond=5.37086e-19): result may not be accurate.\n",
      "  overwrite_a=True).T\n",
      "/anaconda3/lib/python3.7/site-packages/sklearn/linear_model/ridge.py:125: LinAlgWarning: Ill-conditioned matrix (rcond=5.37086e-19): result may not be accurate.\n",
      "  overwrite_a=True).T\n",
      "/anaconda3/lib/python3.7/site-packages/sklearn/linear_model/ridge.py:125: LinAlgWarning: Ill-conditioned matrix (rcond=5.37086e-19): result may not be accurate.\n",
      "  overwrite_a=True).T\n",
      "/anaconda3/lib/python3.7/site-packages/sklearn/linear_model/ridge.py:125: LinAlgWarning: Ill-conditioned matrix (rcond=5.37086e-19): result may not be accurate.\n",
      "  overwrite_a=True).T\n",
      "/anaconda3/lib/python3.7/site-packages/sklearn/linear_model/ridge.py:125: LinAlgWarning: Ill-conditioned matrix (rcond=5.37086e-19): result may not be accurate.\n",
      "  overwrite_a=True).T\n",
      "/anaconda3/lib/python3.7/site-packages/sklearn/linear_model/ridge.py:125: LinAlgWarning: Ill-conditioned matrix (rcond=5.37086e-19): result may not be accurate.\n",
      "  overwrite_a=True).T\n",
      "/anaconda3/lib/python3.7/site-packages/sklearn/linear_model/ridge.py:125: LinAlgWarning: Ill-conditioned matrix (rcond=5.37086e-19): result may not be accurate.\n",
      "  overwrite_a=True).T\n",
      "/anaconda3/lib/python3.7/site-packages/sklearn/linear_model/ridge.py:125: LinAlgWarning: Ill-conditioned matrix (rcond=5.37086e-19): result may not be accurate.\n",
      "  overwrite_a=True).T\n",
      "/anaconda3/lib/python3.7/site-packages/sklearn/linear_model/ridge.py:125: LinAlgWarning: Ill-conditioned matrix (rcond=5.37086e-19): result may not be accurate.\n",
      "  overwrite_a=True).T\n",
      "/anaconda3/lib/python3.7/site-packages/sklearn/linear_model/ridge.py:125: LinAlgWarning: Ill-conditioned matrix (rcond=5.37086e-19): result may not be accurate.\n",
      "  overwrite_a=True).T\n"
     ]
    },
    {
     "name": "stdout",
     "output_type": "stream",
     "text": [
      "[(10.0, 21396570389424.297)]\n",
      "[(10.0, 21396570389424.297), (31.622776601683793, 21503550733079.547)]\n",
      "[(10.0, 21396570389424.297), (31.622776601683793, 21503550733079.547), (100.0, 21678615248266.01)]\n",
      "[(10.0, 21396570389424.297), (31.622776601683793, 21503550733079.547), (100.0, 21678615248266.01), (316.22776601683796, 21912651005974.54)]\n"
     ]
    },
    {
     "name": "stderr",
     "output_type": "stream",
     "text": [
      "/anaconda3/lib/python3.7/site-packages/sklearn/linear_model/ridge.py:125: LinAlgWarning: Ill-conditioned matrix (rcond=1.68679e-18): result may not be accurate.\n",
      "  overwrite_a=True).T\n",
      "/anaconda3/lib/python3.7/site-packages/sklearn/linear_model/ridge.py:125: LinAlgWarning: Ill-conditioned matrix (rcond=1.68679e-18): result may not be accurate.\n",
      "  overwrite_a=True).T\n",
      "/anaconda3/lib/python3.7/site-packages/sklearn/linear_model/ridge.py:125: LinAlgWarning: Ill-conditioned matrix (rcond=1.68679e-18): result may not be accurate.\n",
      "  overwrite_a=True).T\n",
      "/anaconda3/lib/python3.7/site-packages/sklearn/linear_model/ridge.py:125: LinAlgWarning: Ill-conditioned matrix (rcond=1.68679e-18): result may not be accurate.\n",
      "  overwrite_a=True).T\n",
      "/anaconda3/lib/python3.7/site-packages/sklearn/linear_model/ridge.py:125: LinAlgWarning: Ill-conditioned matrix (rcond=1.68679e-18): result may not be accurate.\n",
      "  overwrite_a=True).T\n",
      "/anaconda3/lib/python3.7/site-packages/sklearn/linear_model/ridge.py:125: LinAlgWarning: Ill-conditioned matrix (rcond=1.68679e-18): result may not be accurate.\n",
      "  overwrite_a=True).T\n",
      "/anaconda3/lib/python3.7/site-packages/sklearn/linear_model/ridge.py:125: LinAlgWarning: Ill-conditioned matrix (rcond=1.68679e-18): result may not be accurate.\n",
      "  overwrite_a=True).T\n",
      "/anaconda3/lib/python3.7/site-packages/sklearn/linear_model/ridge.py:125: LinAlgWarning: Ill-conditioned matrix (rcond=1.68679e-18): result may not be accurate.\n",
      "  overwrite_a=True).T\n",
      "/anaconda3/lib/python3.7/site-packages/sklearn/linear_model/ridge.py:125: LinAlgWarning: Ill-conditioned matrix (rcond=1.68679e-18): result may not be accurate.\n",
      "  overwrite_a=True).T\n",
      "/anaconda3/lib/python3.7/site-packages/sklearn/linear_model/ridge.py:125: LinAlgWarning: Ill-conditioned matrix (rcond=1.68679e-18): result may not be accurate.\n",
      "  overwrite_a=True).T\n",
      "/anaconda3/lib/python3.7/site-packages/sklearn/linear_model/ridge.py:125: LinAlgWarning: Ill-conditioned matrix (rcond=5.29046e-18): result may not be accurate.\n",
      "  overwrite_a=True).T\n",
      "/anaconda3/lib/python3.7/site-packages/sklearn/linear_model/ridge.py:125: LinAlgWarning: Ill-conditioned matrix (rcond=5.29046e-18): result may not be accurate.\n",
      "  overwrite_a=True).T\n",
      "/anaconda3/lib/python3.7/site-packages/sklearn/linear_model/ridge.py:125: LinAlgWarning: Ill-conditioned matrix (rcond=5.29046e-18): result may not be accurate.\n",
      "  overwrite_a=True).T\n",
      "/anaconda3/lib/python3.7/site-packages/sklearn/linear_model/ridge.py:125: LinAlgWarning: Ill-conditioned matrix (rcond=5.29046e-18): result may not be accurate.\n",
      "  overwrite_a=True).T\n",
      "/anaconda3/lib/python3.7/site-packages/sklearn/linear_model/ridge.py:125: LinAlgWarning: Ill-conditioned matrix (rcond=5.29046e-18): result may not be accurate.\n",
      "  overwrite_a=True).T\n",
      "/anaconda3/lib/python3.7/site-packages/sklearn/linear_model/ridge.py:125: LinAlgWarning: Ill-conditioned matrix (rcond=5.29046e-18): result may not be accurate.\n",
      "  overwrite_a=True).T\n",
      "/anaconda3/lib/python3.7/site-packages/sklearn/linear_model/ridge.py:125: LinAlgWarning: Ill-conditioned matrix (rcond=5.29046e-18): result may not be accurate.\n",
      "  overwrite_a=True).T\n",
      "/anaconda3/lib/python3.7/site-packages/sklearn/linear_model/ridge.py:125: LinAlgWarning: Ill-conditioned matrix (rcond=5.29046e-18): result may not be accurate.\n",
      "  overwrite_a=True).T\n",
      "/anaconda3/lib/python3.7/site-packages/sklearn/linear_model/ridge.py:125: LinAlgWarning: Ill-conditioned matrix (rcond=5.29046e-18): result may not be accurate.\n",
      "  overwrite_a=True).T\n",
      "/anaconda3/lib/python3.7/site-packages/sklearn/linear_model/ridge.py:125: LinAlgWarning: Ill-conditioned matrix (rcond=5.29046e-18): result may not be accurate.\n",
      "  overwrite_a=True).T\n",
      "/anaconda3/lib/python3.7/site-packages/sklearn/linear_model/ridge.py:125: LinAlgWarning: Ill-conditioned matrix (rcond=2.66226e-17): result may not be accurate.\n",
      "  overwrite_a=True).T\n",
      "/anaconda3/lib/python3.7/site-packages/sklearn/linear_model/ridge.py:125: LinAlgWarning: Ill-conditioned matrix (rcond=2.66226e-17): result may not be accurate.\n",
      "  overwrite_a=True).T\n",
      "/anaconda3/lib/python3.7/site-packages/sklearn/linear_model/ridge.py:125: LinAlgWarning: Ill-conditioned matrix (rcond=2.66226e-17): result may not be accurate.\n",
      "  overwrite_a=True).T\n",
      "/anaconda3/lib/python3.7/site-packages/sklearn/linear_model/ridge.py:125: LinAlgWarning: Ill-conditioned matrix (rcond=2.66226e-17): result may not be accurate.\n",
      "  overwrite_a=True).T\n",
      "/anaconda3/lib/python3.7/site-packages/sklearn/linear_model/ridge.py:125: LinAlgWarning: Ill-conditioned matrix (rcond=2.66226e-17): result may not be accurate.\n",
      "  overwrite_a=True).T\n",
      "/anaconda3/lib/python3.7/site-packages/sklearn/linear_model/ridge.py:125: LinAlgWarning: Ill-conditioned matrix (rcond=2.66226e-17): result may not be accurate.\n",
      "  overwrite_a=True).T\n",
      "/anaconda3/lib/python3.7/site-packages/sklearn/linear_model/ridge.py:125: LinAlgWarning: Ill-conditioned matrix (rcond=2.66226e-17): result may not be accurate.\n",
      "  overwrite_a=True).T\n",
      "/anaconda3/lib/python3.7/site-packages/sklearn/linear_model/ridge.py:125: LinAlgWarning: Ill-conditioned matrix (rcond=2.66226e-17): result may not be accurate.\n",
      "  overwrite_a=True).T\n",
      "/anaconda3/lib/python3.7/site-packages/sklearn/linear_model/ridge.py:125: LinAlgWarning: Ill-conditioned matrix (rcond=2.66226e-17): result may not be accurate.\n",
      "  overwrite_a=True).T\n",
      "/anaconda3/lib/python3.7/site-packages/sklearn/linear_model/ridge.py:125: LinAlgWarning: Ill-conditioned matrix (rcond=2.66226e-17): result may not be accurate.\n",
      "  overwrite_a=True).T\n",
      "/anaconda3/lib/python3.7/site-packages/sklearn/linear_model/ridge.py:125: LinAlgWarning: Ill-conditioned matrix (rcond=5.25716e-17): result may not be accurate.\n",
      "  overwrite_a=True).T\n",
      "/anaconda3/lib/python3.7/site-packages/sklearn/linear_model/ridge.py:125: LinAlgWarning: Ill-conditioned matrix (rcond=5.25716e-17): result may not be accurate.\n",
      "  overwrite_a=True).T\n",
      "/anaconda3/lib/python3.7/site-packages/sklearn/linear_model/ridge.py:125: LinAlgWarning: Ill-conditioned matrix (rcond=5.25716e-17): result may not be accurate.\n",
      "  overwrite_a=True).T\n",
      "/anaconda3/lib/python3.7/site-packages/sklearn/linear_model/ridge.py:125: LinAlgWarning: Ill-conditioned matrix (rcond=5.25716e-17): result may not be accurate.\n",
      "  overwrite_a=True).T\n",
      "/anaconda3/lib/python3.7/site-packages/sklearn/linear_model/ridge.py:125: LinAlgWarning: Ill-conditioned matrix (rcond=5.25716e-17): result may not be accurate.\n",
      "  overwrite_a=True).T\n",
      "/anaconda3/lib/python3.7/site-packages/sklearn/linear_model/ridge.py:125: LinAlgWarning: Ill-conditioned matrix (rcond=5.25716e-17): result may not be accurate.\n",
      "  overwrite_a=True).T\n",
      "/anaconda3/lib/python3.7/site-packages/sklearn/linear_model/ridge.py:125: LinAlgWarning: Ill-conditioned matrix (rcond=5.25716e-17): result may not be accurate.\n",
      "  overwrite_a=True).T\n",
      "/anaconda3/lib/python3.7/site-packages/sklearn/linear_model/ridge.py:125: LinAlgWarning: Ill-conditioned matrix (rcond=5.25716e-17): result may not be accurate.\n",
      "  overwrite_a=True).T\n",
      "/anaconda3/lib/python3.7/site-packages/sklearn/linear_model/ridge.py:125: LinAlgWarning: Ill-conditioned matrix (rcond=5.25716e-17): result may not be accurate.\n",
      "  overwrite_a=True).T\n",
      "/anaconda3/lib/python3.7/site-packages/sklearn/linear_model/ridge.py:125: LinAlgWarning: Ill-conditioned matrix (rcond=5.25716e-17): result may not be accurate.\n",
      "  overwrite_a=True).T\n"
     ]
    },
    {
     "name": "stdout",
     "output_type": "stream",
     "text": [
      "[(10.0, 21396570389424.297), (31.622776601683793, 21503550733079.547), (100.0, 21678615248266.01), (316.22776601683796, 21912651005974.54), (1000.0, 22182522302350.98)]\n",
      "[(10.0, 21396570389424.297), (31.622776601683793, 21503550733079.547), (100.0, 21678615248266.01), (316.22776601683796, 21912651005974.54), (1000.0, 22182522302350.98), (3162.2776601683795, 22507455551593.676)]\n",
      "[(10.0, 21396570389424.297), (31.622776601683793, 21503550733079.547), (100.0, 21678615248266.01), (316.22776601683796, 21912651005974.54), (1000.0, 22182522302350.98), (3162.2776601683795, 22507455551593.676), (10000.0, 23128853999478.79)]\n",
      "[(10.0, 21396570389424.297), (31.622776601683793, 21503550733079.547), (100.0, 21678615248266.01), (316.22776601683796, 21912651005974.54), (1000.0, 22182522302350.98), (3162.2776601683795, 22507455551593.676), (10000.0, 23128853999478.79), (31622.776601683792, 23964901754992.336)]\n",
      "[(10.0, 21396570389424.297), (31.622776601683793, 21503550733079.547), (100.0, 21678615248266.01), (316.22776601683796, 21912651005974.54), (1000.0, 22182522302350.98), (3162.2776601683795, 22507455551593.676), (10000.0, 23128853999478.79), (31622.776601683792, 23964901754992.336), (100000.0, 24593777005811.492)]\n",
      "[(10.0, 21396570389424.297), (31.622776601683793, 21503550733079.547), (100.0, 21678615248266.01), (316.22776601683796, 21912651005974.54), (1000.0, 22182522302350.98), (3162.2776601683795, 22507455551593.676), (10000.0, 23128853999478.79), (31622.776601683792, 23964901754992.336), (100000.0, 24593777005811.492), (316227.7660168379, 24939924478489.094)]\n",
      "[(10.0, 21396570389424.297), (31.622776601683793, 21503550733079.547), (100.0, 21678615248266.01), (316.22776601683796, 21912651005974.54), (1000.0, 22182522302350.98), (3162.2776601683795, 22507455551593.676), (10000.0, 23128853999478.79), (31622.776601683792, 23964901754992.336), (100000.0, 24593777005811.492), (316227.7660168379, 24939924478489.094), (1000000.0, 25160465733442.25)]\n",
      "[(10.0, 21396570389424.297), (31.622776601683793, 21503550733079.547), (100.0, 21678615248266.01), (316.22776601683796, 21912651005974.54), (1000.0, 22182522302350.98), (3162.2776601683795, 22507455551593.676), (10000.0, 23128853999478.79), (31622.776601683792, 23964901754992.336), (100000.0, 24593777005811.492), (316227.7660168379, 24939924478489.094), (1000000.0, 25160465733442.25), (3162277.6601683795, 25419632349204.586)]\n",
      "[(10.0, 21396570389424.297), (31.622776601683793, 21503550733079.547), (100.0, 21678615248266.01), (316.22776601683796, 21912651005974.54), (1000.0, 22182522302350.98), (3162.2776601683795, 22507455551593.676), (10000.0, 23128853999478.79), (31622.776601683792, 23964901754992.336), (100000.0, 24593777005811.492), (316227.7660168379, 24939924478489.094), (1000000.0, 25160465733442.25), (3162277.6601683795, 25419632349204.586), (10000000.0, 25653004071399.336)]\n"
     ]
    }
   ],
   "source": [
    "result_dict = {}\n",
    "for l2_penalty in np.logspace(1,7,num=13):\n",
    "    result_dict[l2_penalty] = compute_validation_errors(10,l2_penalty,poly15_data,'price',my_features)\n",
    "    sorted_result_dict =[(k,result_dict[k]) for k in sorted(result_dict,key = result_dict.get)]\n",
    "    print (sorted_result_dict)"
   ]
  },
  {
   "cell_type": "code",
   "execution_count": 39,
   "metadata": {},
   "outputs": [
    {
     "name": "stdout",
     "output_type": "stream",
     "text": [
      "(10.0, 21396570389424.297)\n"
     ]
    }
   ],
   "source": [
    "print (min(result_dict.items(),key = lambda x:x[1]))"
   ]
  },
  {
   "cell_type": "markdown",
   "metadata": {},
   "source": [
    "What is the best value for the L2 penalty according to 10-fold validation? You may find it useful to plot the k-fold cross-validation errors you have obtained to better understand the behavior of the method."
   ]
  },
  {
   "cell_type": "code",
   "execution_count": 40,
   "metadata": {},
   "outputs": [
    {
     "data": {
      "image/png": "[encoded data removed]",
      "text/plain": [
       "<Figure size 432x288 with 1 Axes>"
      ]
     },
     "metadata": {
      "needs_background": "light"
     },
     "output_type": "display_data"
    }
   ],
   "source": [
    "# Plot the l2_penalty values in the x axis and the cross-validation error in the y axis.\n",
    "# Using plt.xscale('log') will make your plot more intuitive.\n",
    "# your code\n",
    "lists = sorted(result_dict.items())\n",
    "x,y = zip(*lists)\n",
    "plt.plot(x,y)\n",
    "plt.xscale('log')"
   ]
  },
  {
   "cell_type": "markdown",
   "metadata": {},
   "source": [
    "Once you found the best value for the L2 penalty using cross-validation, it is important to retrain a final model on all of the training data using this value of l2_penalty. This way, your final model will be trained on the entire dataset. What is the RSS on the TEST data of the model you learn with this L2 penalty?"
   ]
  },
  {
   "cell_type": "code",
   "execution_count": 41,
   "metadata": {},
   "outputs": [],
   "source": [
    "poly15_data = polynomial_df(train_valid_shuffled['SQUARE FEET'], 15)\n",
    "my_features = list(poly15_data.columns.values)\n",
    "poly15_data['price'] = train_valid_shuffled['PRICE']\n",
    "model = Ridge(alpha = 10.0)\n",
    "poly15_model = model.fit(poly15_data[my_features],poly15_data['price'])"
   ]
  },
  {
   "cell_type": "code",
   "execution_count": 46,
   "metadata": {},
   "outputs": [
    {
     "name": "stdout",
     "output_type": "stream",
     "text": [
      "1.9196791199274476e+18\n"
     ]
    }
   ],
   "source": [
    "poly15_test = polynomial_df(test_data['SQUARE FEET'], 15)\n",
    "predictions = poly15_model.predict(poly15_test)\n",
    "errors = predictions - test_data['PRICE']\n",
    "rss = (errors*errors).sum()\n",
    "print (rss)"
   ]
  },
  {
   "cell_type": "markdown",
   "metadata": {},
   "source": [
    "# Implement ridge regression via gradient descent"
   ]
  },
  {
   "cell_type": "markdown",
   "metadata": {},
   "source": [
    "Now we are going to implement ridge regession via gradient descent. We will:\n",
    "* Convert dataframe into a numpy array\n",
    "* Write a Numpy function to compute the derivative of the regression weights with respect to a single feature\n",
    "* Write gradient descent function to compute the regression weights given an initial weight vector, step size, tolerance, and L2 penalty"
   ]
  },
  {
   "cell_type": "markdown",
   "metadata": {},
   "source": [
    "first copy and past get_numpy_data() and predict_output() function from the 2nd project."
   ]
  },
  {
   "cell_type": "code",
   "execution_count": 49,
   "metadata": {},
   "outputs": [],
   "source": [
    "# your code\n",
    "def get_numpy_data(data, features, output):\n",
    "    data['constant'] = 1\n",
    "    features = ['constant'] + features\n",
    "    feature_frame = data[features]\n",
    "    feature_matrix = feature_frame.to_numpy()\n",
    "    output_array = data[output].to_numpy()\n",
    "    return(feature_matrix, output_array)"
   ]
  },
  {
   "cell_type": "code",
   "execution_count": 50,
   "metadata": {},
   "outputs": [],
   "source": [
    "# your code\n",
    "def predict_output(feature_matrix, weights):\n",
    "    predictions = np.dot(feature_matrix,weights)\n",
    "    return(predictions)"
   ]
  },
  {
   "cell_type": "markdown",
   "metadata": {},
   "source": [
    "# Computing the Derivative"
   ]
  },
  {
   "cell_type": "markdown",
   "metadata": {},
   "source": [
    "We are now going to move to computing the derivative of the regression cost function. The cost function is the sum over the data points of the squared difference between an observed output and a predicted output, plus the L2 penalty term.\n",
    "```\n",
    "Cost(w)\n",
    "= SUM[ (prediction - output)^2 ]\n",
    "+ l2_penalty*(w[0]^2 + w[1]^2 + ... + w[k]^2).\n",
    "```\n",
    "\n",
    "Since the derivative of a sum is the sum of the derivatives, we can take the derivative of the first part (the RSS) as we did in the notebook for the unregularized case in Week 2 and add the derivative of the regularization part.  As we saw, the derivative of the RSS with respect to `w[i]` can be written as: \n",
    "```\n",
    "2*SUM[ error*[feature_i] ].\n",
    "```\n",
    "The derivative of the regularization term with respect to `w[i]` is:\n",
    "```\n",
    "2*l2_penalty*w[i].\n",
    "```\n",
    "Summing both, we get\n",
    "```\n",
    "2*SUM[ error*[feature_i] ] + 2*l2_penalty*w[i].\n",
    "```\n",
    "That is, the derivative for the weight for feature i is the sum (over data points) of 2 times the product of the error and the feature itself, plus `2*l2_penalty*w[i]`. \n",
    "\n",
    "**We will not regularize the constant.**  Thus, in the case of the constant, the derivative is just twice the sum of the errors (without the `2*l2_penalty*w[0]` term).\n",
    "\n",
    "Recall that twice the sum of the product of two vectors is just twice the dot product of the two vectors. Therefore the derivative for the weight for feature_i is just two times the dot product between the values of feature_i and the current errors, plus `2*l2_penalty*w[i]`.\n",
    "\n",
    "With this in mind complete the following derivative function which computes the derivative of the weight given the value of the feature (over all data points) and the errors (over all data points).  To decide when to we are dealing with the constant (so we don't regularize it) we added the extra parameter to the call `feature_is_constant` which you should set to `True` when computing the derivative of the constant and `False` otherwise."
   ]
  },
  {
   "cell_type": "code",
   "execution_count": 51,
   "metadata": {},
   "outputs": [],
   "source": [
    "def feature_derivative_ridge(errors, features, weight, l2_penalty, feature_is_constant):\n",
    "    # If feature_is_constant is True, derivative is twice the dot product of errors and feature\n",
    "    if feature_is_constant == True:\n",
    "        derivative = 2* np.dot(errors, features)\n",
    "    # your code\n",
    "    # Otherwise, derivative is twice the dot product plus 2*l2_penalty*weight\n",
    "        # your code\n",
    "    else:\n",
    "        derivative = 2* np.dot(errors, features) + 2*l2_penalty*weight\n",
    "    return derivative"
   ]
  },
  {
   "cell_type": "markdown",
   "metadata": {},
   "source": [
    "Let's test the feature derivative function by running the following code:"
   ]
  },
  {
   "cell_type": "code",
   "execution_count": 52,
   "metadata": {},
   "outputs": [
    {
     "name": "stdout",
     "output_type": "stream",
     "text": [
      "-1292850463516.0\n",
      "-1292850463516.0\n",
      "-512087414.0\n",
      "-512087414.0\n"
     ]
    }
   ],
   "source": [
    "(example_features, example_output) = get_numpy_data(data, ['SQUARE FEET'], 'PRICE') \n",
    "my_weights = np.array([1., 10.])\n",
    "test_predictions = predict_output(example_features, my_weights) \n",
    "errors = test_predictions - example_output # prediction errors\n",
    "\n",
    "# next two lines should print the same values\n",
    "print (feature_derivative_ridge(errors, example_features[:,1], my_weights[1], 1, False))\n",
    "print (np.sum(errors*example_features[:,1])*2+20)\n",
    "\n",
    "\n",
    "# next two lines should print the same values\n",
    "print (feature_derivative_ridge(errors, example_features[:,0], my_weights[0], 1, True))\n",
    "print (np.sum(errors)*2)"
   ]
  },
  {
   "cell_type": "markdown",
   "metadata": {},
   "source": [
    "# Gradient Descent"
   ]
  },
  {
   "cell_type": "markdown",
   "metadata": {},
   "source": [
    "Now we will write a function that performs a gradient descent. The basic premise is simple. Given a starting point we update the current weights by moving in the negative gradient direction. Recall that the gradient is the direction of *increase* and therefore the negative gradient is the direction of *decrease* and we're trying to *minimize* a cost function. \n",
    "\n",
    "The amount by which we move in the negative gradient *direction*  is called the 'step size'. We stop when we are 'sufficiently close' to the optimum. Unlike in Project 2, this time we will set a **maximum number of iterations** and take gradient steps until we reach this maximum number. If no maximum number is supplied, the maximum should be set 100 by default. (Use default parameter values in Python.)\n",
    "\n",
    "With this in mind, complete the following gradient descent function below using your derivative function above. For each step in the gradient descent, we update the weight for each feature before computing our stopping criteria."
   ]
  },
  {
   "cell_type": "code",
   "execution_count": 78,
   "metadata": {},
   "outputs": [],
   "source": [
    "def ridge_regression_gradient_descent(feature_matrix, output, initial_weights, step_size, l2_penalty, max_iterations=100):\n",
    "    print ('Starting gradient descent with l2_penalty = ' + str(l2_penalty))\n",
    "    \n",
    "    # your code # make sure it's a numpy array\n",
    "    iteration = 0 # iteration counter\n",
    "    print_frequency = 1  # for adjusting frequency of debugging output\n",
    "    weights = np.array(initial_weights)\n",
    "    while max_iterations >0:# your code:\n",
    "    #while not reached maximum number of iterations:\n",
    "        # your code \n",
    "        \n",
    "        # increment iteration counter\n",
    "        ### === code section for adjusting frequency of debugging output. ===\n",
    "        if iteration == 10:\n",
    "            print_frequency = 10\n",
    "        if iteration == 100:\n",
    "            print_frequency = 100\n",
    "        if iteration%print_frequency==0:\n",
    "            print('Iteration = ' + str(iteration))\n",
    "        ### === end code section ===\n",
    "        \n",
    "        # compute the predictions based on feature_matrix and weights using your predict_output() function\n",
    "        # your code\n",
    "        predictions = predict_output(feature_matrix,weights)\n",
    "        # compute the errors as predictions - output\n",
    "        # your code\n",
    "        errors = predictions - output\n",
    "        # from time to time, print the value of the cost function\n",
    "        if iteration%print_frequency==0:\n",
    "            print ('Cost function = '+ str(errors)), # your code\n",
    "        \n",
    "        for i in range(len(weights)): # loop over each weight\n",
    "            # Recall that feature_matrix[:,i] is the feature column associated with weights[i]\n",
    "            # compute the derivative for weight[i].\n",
    "            #(Remember: when i=0, you are computing the derivative of the constant!)\n",
    "            # your code\n",
    "            if i ==0:\n",
    "                feature_is_constant = True\n",
    "            else:\n",
    "                feature_is_constant - False\n",
    "            derivative = feature_derivative_ridge(errors, feature_matrix[:,i], weights[i], l2_penalty, feature_is_constant)\n",
    "            # subtract the step size times the derivative from the current weight\n",
    "            # your code\n",
    "            weights[i] = weights[i]-(step_size * derivative)\n",
    "    print ('Done with gradient descent at iteration ', iteration)\n",
    "    print ('Learned weights = ', str(weights))\n",
    "    return weights"
   ]
  },
  {
   "cell_type": "markdown",
   "metadata": {},
   "source": [
    "# Visualizing effect of L2 penalty"
   ]
  },
  {
   "cell_type": "markdown",
   "metadata": {},
   "source": [
    "The L2 penalty gets its name because it causes weights to have small L2 norms than otherwise. Let's see how large weights get penalized. Let us consider a simple model with 1 feature:"
   ]
  },
  {
   "cell_type": "code",
   "execution_count": 79,
   "metadata": {},
   "outputs": [],
   "source": [
    "data = pd.read_csv('santa_clara_county.csv')\n",
    "data = data[data['PRICE'].notnull()]\n",
    "data = data[data['SQUARE FEET'].notnull()]"
   ]
  },
  {
   "cell_type": "code",
   "execution_count": 80,
   "metadata": {},
   "outputs": [],
   "source": [
    "simple_features = ['SQUARE FEET']\n",
    "my_output = 'PRICE'"
   ]
  },
  {
   "cell_type": "markdown",
   "metadata": {},
   "source": [
    "Let us split the dataset into training set and test set with 80/20:"
   ]
  },
  {
   "cell_type": "code",
   "execution_count": 81,
   "metadata": {},
   "outputs": [],
   "source": [
    "# your code\n",
    "train_data,test_data = train_test_split(data,test_size = 0.2,random_state = 0)"
   ]
  },
  {
   "cell_type": "markdown",
   "metadata": {},
   "source": [
    "In this part, we will only use 'SQUARE FEET' to predict 'PRICE'. Use the get_numpy_data function to get a Numpy versions of your data with only this feature, for both the train_data and the test_data."
   ]
  },
  {
   "cell_type": "code",
   "execution_count": 82,
   "metadata": {},
   "outputs": [
    {
     "name": "stderr",
     "output_type": "stream",
     "text": [
      "/anaconda3/lib/python3.7/site-packages/ipykernel_launcher.py:3: SettingWithCopyWarning: \n",
      "A value is trying to be set on a copy of a slice from a DataFrame.\n",
      "Try using .loc[row_indexer,col_indexer] = value instead\n",
      "\n",
      "See the caveats in the documentation: http://pandas.pydata.org/pandas-docs/stable/indexing.html#indexing-view-versus-copy\n",
      "  This is separate from the ipykernel package so we can avoid doing imports until\n"
     ]
    }
   ],
   "source": [
    "# your code\n",
    "(simple_feature_matrix, output) = get_numpy_data(train_data, simple_features, my_output)\n",
    "(simple_test_feature_matrix, test_output) = get_numpy_data(test_data, simple_features, my_output)"
   ]
  },
  {
   "cell_type": "markdown",
   "metadata": {},
   "source": [
    "Let's set the parameters for our optimization:"
   ]
  },
  {
   "cell_type": "code",
   "execution_count": 83,
   "metadata": {},
   "outputs": [],
   "source": [
    "initial_weights = np.array([0., 0.])\n",
    "step_size = 1e-12\n",
    "max_iterations=1000"
   ]
  },
  {
   "cell_type": "markdown",
   "metadata": {},
   "source": [
    "First, let's consider no regularization. Set the l2_penalty to 0.0 and run your ridge regression algorithm to learn the weights of your model. Call your weights:\n",
    "simple_weights_0_penalty\n",
    "we'll use them later."
   ]
  },
  {
   "cell_type": "code",
   "execution_count": null,
   "metadata": {},
   "outputs": [],
   "source": [
    "# your code\n",
    "simple_weights_0_penalty = ridge_regression_gradient_descent(simple_feature_matrix, output, \n",
    "                                                             initial_weights, step_size, \n",
    "                                                             0.0, max_iterations)\n",
    "print (simple_weights_0_penalty)"
   ]
  },
  {
   "cell_type": "markdown",
   "metadata": {},
   "source": [
    "Next, let's consider high regularization. Set the l2_penalty to 3.e9 and run your ridge regression algorithm to learn the weights of your model. Call your weights:\n",
    "simple_weights_high_penalty\n",
    "we'll use them later."
   ]
  },
  {
   "cell_type": "code",
   "execution_count": null,
   "metadata": {},
   "outputs": [],
   "source": [
    "# your code\n",
    "simple_weights_high_penalty = ridge_regression_gradient_descent(simple_feature_matrix, output, \n",
    "                                                             initial_weights, step_size, \n",
    "                                                             1e11, max_iterations)\n",
    "print simple_weights_high_penalty"
   ]
  },
  {
   "cell_type": "markdown",
   "metadata": {},
   "source": [
    "Use the code below to plot the two learned models. (The blue line is for the model with no regularization and the red line is for the one with high regularization.)"
   ]
  },
  {
   "cell_type": "code",
   "execution_count": null,
   "metadata": {},
   "outputs": [],
   "source": [
    "import matplotlib.pyplot as plt\n",
    "%matplotlib inline\n",
    "# your code\n",
    "plt.plot(simple_feature_matrix,output,'k.',\n",
    "         simple_feature_matrix,predict_output(simple_feature_matrix, simple_weights_0_penalty),'b-',\n",
    "        simple_feature_matrix,predict_output(simple_feature_matrix, simple_weights_high_penalty),'r-')"
   ]
  },
  {
   "cell_type": "markdown",
   "metadata": {},
   "source": [
    "Compute the RSS on the TEST data for the following three sets of weights:\n",
    "The initial weights (all zeros)\n",
    "The weights learned with no regularization\n",
    "The weights learned with high regularization\n",
    "Which weights perform best?"
   ]
  },
  {
   "cell_type": "code",
   "execution_count": 34,
   "metadata": {},
   "outputs": [
    {
     "name": "stdout",
     "output_type": "stream",
     "text": [
      "9.499852125e+13\n"
     ]
    }
   ],
   "source": [
    "# your code\n",
    "initial_predictions = predict_output(simple_test_feature_matrix, initial_weights)\n",
    "initial_residuals = test_output - initial_predictions\n",
    "initial_RSS = (initial_residuals **2).sum()\n",
    "print initial_RSS"
   ]
  },
  {
   "cell_type": "code",
   "execution_count": 35,
   "metadata": {},
   "outputs": [
    {
     "name": "stdout",
     "output_type": "stream",
     "text": [
      "3.47108640305e+13\n"
     ]
    }
   ],
   "source": [
    "# your code\n",
    "no_regularization_predictions = predict_output(simple_test_feature_matrix, simple_weights_0_penalty)\n",
    "no_regularization_residuals = test_output - no_regularization_predictions\n",
    "no_regularization_RSS = (no_regularization_residuals **2).sum()\n",
    "print no_regularization_RSS"
   ]
  },
  {
   "cell_type": "code",
   "execution_count": 36,
   "metadata": {},
   "outputs": [
    {
     "name": "stdout",
     "output_type": "stream",
     "text": [
      "7.0847817517e+13\n"
     ]
    }
   ],
   "source": [
    "# your code\n",
    "regularization_predictions = predict_output(simple_test_feature_matrix, simple_weights_high_penalty)\n",
    "regularization_residuals = test_output - regularization_predictions\n",
    "regularization_RSS = (regularization_residuals **2).sum()\n",
    "print regularization_RSS"
   ]
  },
  {
   "cell_type": "markdown",
   "metadata": {},
   "source": [
    "why do you think the RSS for test sets are in this way?"
   ]
  },
  {
   "cell_type": "markdown",
   "metadata": {},
   "source": [
    "# Running a multiple regression with L2 penalty"
   ]
  },
  {
   "cell_type": "markdown",
   "metadata": {},
   "source": [
    "Now do some research on a model with multiple features. For example, you can explore \"SQUARE FEET\" and number of bedrooms and bathrooms. Remember to re-initialize your weights since now you have multiple parameters. First consider no regularization and then run it with regularization. \n",
    "\n",
    "Compute the RSS on the TEST data for the following three sets of weights:\n",
    "1. The initial weights (all zeros)\n",
    "2. The weights learned with no regularization\n",
    "3. The weights learned with high regularization\n",
    "\n",
    "Which weights perform best?"
   ]
  },
  {
   "cell_type": "code",
   "execution_count": null,
   "metadata": {
    "collapsed": true
   },
   "outputs": [],
   "source": [
    "# your code\n",
    "model_features = ['SQUARE FEET','BEDS','BATHS']\n",
    "my_output ='PRICE'\n",
    "(feature_matrix, output) = get_numpy_data(train_data, model_features, my_output)\n",
    "(test_feature_matrix, test_output) = get_numpy_data(test_data, model_features, my_output)\n",
    "initial_weights = np.array([0.0,0.0,0.0])\n",
    "step_size = 1e-12\n",
    "max_iterations = 1000"
   ]
  },
  {
   "cell_type": "code",
   "execution_count": null,
   "metadata": {},
   "outputs": [],
   "source": [
    "multiple_weights_0_penalty = ridge_regression_gradient_descent(feature_matrix, output, \n",
    "                                                               initial_weights, step_size, \n",
    "                                                               0.0, max_iterations)\n",
    "print multiple_weights_0_penalty"
   ]
  },
  {
   "cell_type": "code",
   "execution_count": null,
   "metadata": {},
   "outputs": [],
   "source": [
    "multiple_weights_high_penalty = ridge_regression_gradient_descent(feature_matrix, output, \n",
    "                                                               initial_weights, step_size, \n",
    "                                                               1e11, max_iterations)\n",
    "print multiple_weights_high_penalty"
   ]
  },
  {
   "cell_type": "code",
   "execution_count": null,
   "metadata": {},
   "outputs": [],
   "source": [
    "initial_predictions = predict_output(test_feature_matrix, initial_weights)\n",
    "initial_residuals = test_output - initial_predictions\n",
    "initial_RSS = (initial_residuals **2).sum()\n",
    "print initial_RSS"
   ]
  },
  {
   "cell_type": "code",
   "execution_count": null,
   "metadata": {},
   "outputs": [],
   "source": [
    "no_regularization_predictions = predict_output(test_feature_matrix, multiple_weights_0_penalty)\n",
    "no_regularization_residuals = test_output - no_regularization_predictions\n",
    "no_regularization_RSS = (no_regularization_residuals **2).sum()\n",
    "print no_regularization_RSS"
   ]
  },
  {
   "cell_type": "code",
   "execution_count": null,
   "metadata": {},
   "outputs": [],
   "source": [
    "regularization_predictions = predict_output(test_feature_matrix, multiple_weights_high_penalty)\n",
    "regularization_residuals = test_output - regularization_predictions\n",
    "regularization_RSS = (regularization_residuals **2).sum()\n",
    "print regularization_RSS"
   ]
  }
 ],
 "metadata": {
  "kernelspec": {
   "display_name": "Python 3",
   "language": "python",
   "name": "python3"
  },
  "language_info": {
   "codemirror_mode": {
    "name": "ipython",
    "version": 3
   },
   "file_extension": ".py",
   "mimetype": "text/x-python",
   "name": "python",
   "nbconvert_exporter": "python",
   "pygments_lexer": "ipython3",
   "version": "3.7.3"
  }
 },
 "nbformat": 4,
 "nbformat_minor": 1
}
